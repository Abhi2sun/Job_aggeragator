{
 "cells": [
  {
   "cell_type": "code",
   "execution_count": 1,
   "id": "7b801828-1a62-4060-aa30-89f0904120c5",
   "metadata": {},
   "outputs": [],
   "source": [
    "# imports\n",
    "\n",
    "import os\n",
    "import json\n",
    "from dotenv import load_dotenv\n",
    "from openai import OpenAI\n",
    "from agents.jobs import ScrapedJobDescription, JobSelection"
   ]
  },
  {
   "cell_type": "code",
   "execution_count": 2,
   "id": "a760dda1-5e79-419e-96fb-f0ddf972b390",
   "metadata": {},
   "outputs": [],
   "source": [
    "\n",
    "load_dotenv()\n",
    "os.environ['OPENAI_API_KEY'] = os.getenv('OPENAI_API_KEY', 'your-key-if-not-using-env')\n",
    "MODEL = 'gpt-4o-mini'\n",
    "openai = OpenAI()"
   ]
  },
  {
   "cell_type": "code",
   "execution_count": 7,
   "id": "1a4f0e19-8522-4d88-860f-a006811857ad",
   "metadata": {},
   "outputs": [
    {
     "name": "stderr",
     "output_type": "stream",
     "text": [
      " 25%|█████████████████████                                                               | 1/4 [00:01<00:03,  1.13s/it]ERROR:agents.jobs:Error parsing job page: 'NoneType' object has no attribute 'get_text'\n",
      "ERROR:agents.jobs:Error parsing job page: 'NoneType' object has no attribute 'get_text'\n",
      "ERROR:agents.jobs:Error parsing job page: 'NoneType' object has no attribute 'get_text'\n",
      "ERROR:agents.jobs:Error parsing job page: 'NoneType' object has no attribute 'get_text'\n",
      "ERROR:agents.jobs:Error parsing job page: 'NoneType' object has no attribute 'get_text'\n",
      "ERROR:agents.jobs:Error parsing job page: 'NoneType' object has no attribute 'get_text'\n",
      "ERROR:agents.jobs:Error parsing job page: 'NoneType' object has no attribute 'get_text'\n",
      "ERROR:agents.jobs:Error parsing job page: 'NoneType' object has no attribute 'get_text'\n",
      "ERROR:agents.jobs:Error parsing job page: 'NoneType' object has no attribute 'get_text'\n",
      "ERROR:agents.jobs:Error parsing job page: 'NoneType' object has no attribute 'get_text'\n",
      " 50%|██████████████████████████████████████████                                          | 2/4 [00:13<00:15,  7.65s/it]ERROR:agents.jobs:Error parsing job page: 'NoneType' object has no attribute 'get_text'\n",
      "ERROR:agents.jobs:Error parsing job page: 'NoneType' object has no attribute 'get_text'\n",
      "ERROR:agents.jobs:Error parsing job page: 'NoneType' object has no attribute 'get_text'\n",
      "ERROR:agents.jobs:Error parsing job page: 'NoneType' object has no attribute 'get_text'\n",
      "ERROR:agents.jobs:Error parsing job page: 'NoneType' object has no attribute 'get_text'\n",
      "ERROR:agents.jobs:Error parsing job page: 'NoneType' object has no attribute 'get_text'\n",
      "ERROR:agents.jobs:Error parsing job page: 'NoneType' object has no attribute 'get_text'\n",
      "ERROR:agents.jobs:Error parsing job page: 'NoneType' object has no attribute 'get_text'\n",
      "ERROR:agents.jobs:Error parsing job page: 'NoneType' object has no attribute 'get_text'\n",
      "ERROR:agents.jobs:Error parsing job page: 'NoneType' object has no attribute 'get_text'\n",
      "100%|████████████████████████████████████████████████████████████████████████████████████| 4/4 [00:27<00:00,  6.99s/it]\n"
     ]
    }
   ],
   "source": [
    "deals = ScrapedJobDescription.fetch(show_progress=True)"
   ]
  },
  {
   "cell_type": "code",
   "execution_count": 8,
   "id": "4cd8d764-4aa8-4626-8e5b-c765c77598f9",
   "metadata": {},
   "outputs": [
    {
     "data": {
      "text/plain": [
       "20"
      ]
     },
     "execution_count": 8,
     "metadata": {},
     "output_type": "execute_result"
    }
   ],
   "source": [
    "len(deals)"
   ]
  },
  {
   "cell_type": "code",
   "execution_count": 9,
   "id": "24468ff4-804b-494e-b523-e22607e91cf1",
   "metadata": {},
   "outputs": [],
   "source": [
    "jobs=deals"
   ]
  },
  {
   "cell_type": "code",
   "execution_count": 11,
   "id": "1cf5545f-d350-42d0-b02a-0491626f90ef",
   "metadata": {},
   "outputs": [
    {
     "data": {
      "text/plain": [
       "\"Title: Sales Executive\\nCompany: G-P\\nLocation: Boston, Massachusetts, United States\\nSummary: <p>&nbsp;</p><p>At G-P, our mission is to break down barriers to global business, enabling opportunities for everyone, everywhere. With remote-first and diverse teams all around the world, our people are the key to achieving this mission.</p><p>That’s why we trust our Dream Team members with the flexibility and autonomy to do their best and most innovative work, encourage and support their personal growth and career development, and believe in recognition for a job well done.</p><p>The work you’ll be a part of here will have a positive impact on people and their work/life possibilities around the world. Our industry-leading SaaS-based Global Employment Platform™ enables our customers to expand and grow into 180+ countries, creating more opportunities for global success – without requiring entity or subsidiary setup. Beyond the power of our platform, we never forget that behind every hire is a human being. And that brings us to you.</p><p>Beyond a competitive compensation and benefits package, what we offer to all employees is the clear and simple promise of Opportunity Made Possible. Come expand your skills in new ways and experience the thrill of impacting the way the world works, today and in the future.</p><p>&nbsp;</p><p><strong>About the Position:</strong></p><p>As a Sales Executive at G-P, you are leading the charge in breaking down barriers to global business. Our AI-driven, automated, fully compliant global Employer of Record platform is overlaid by a SaaS offering that puts our hyper-localized HR, finance legal systems into a self-service customer experience.</p><p><strong>What you'll do:</strong></p><p>Using strong consultative selling skills, you will primarily focus on driving self-sourced leads to build your pipeline. You will actively seek out new business opportunities and establish connections with potential clients, while also partnering closely with internal stakeholders to achieve team goals and work towards team’s revenue targets.</p><p>Individuals in this customer-facing role send a critical message about G-P as a company and should aspire to demonstrate excellence in international space building on consultative sales expertise, while focusing heavily on customer needs.</p><p>Are you ready to work for a company that has continuously being recognized as a Top Place to work?</p><p><strong>What we're looking for:</strong></p><ul><li>5+ years of proven experience in technology sales, data related software and/or cloud-based applications</li><li>Demonstrated ability to independently source and generate new business opportunities, focusing on the French market</li><li>Proven experience building and maintaining professional, consultative relationships with the client, up to and including the C-level for mid-to-large accounts achieved via developing a core understanding of the unique business needs of the client within their industry</li><li>Track record of selling Business Value vs Product</li><li>Excellent verbal and written communication, presentation, and relationship management skills</li></ul><p>People are the heartbeat of the company and the key to making Globalization Partners an inclusive and fun place to work – a collaborative environment where you can make a real impact and love the work you’re doing!</p><p>&nbsp;</p><p>The annual gross base salary range for this position is $80,000-$85,000 plus commissions.</p><p>G-P values its employees and offers excellent benefits and perks including generous paid parental leave, flexible time off, flexible spending accounts, medical Insurance, dental insurance, vision insurance, sabbatical after 5 years of service and more.</p><p>We will consider for employment all qualified applicants, including those with arrest records, conviction records, or other criminal histories, in a manner consistent with the requirements of any applicable state and local laws, including the City of Los Angeles’ Fair Chance Initiative for Hiring Ordinance, the San Francisco Fair Chance Ordinance, and the New York City Fair Chance Act.&nbsp;</p><p><br /><br /><br />#LI-JT</p><p>&nbsp;</p><p>&nbsp;</p>\\nURL: https://remoteOK.com/remote-jobs/remote-sales-executive-g-p-1058619\""
      ]
     },
     "execution_count": 11,
     "metadata": {},
     "output_type": "execute_result"
    }
   ],
   "source": [
    "jobs[10].describe()"
   ]
  },
  {
   "cell_type": "code",
   "execution_count": 12,
   "id": "7d760c23-7034-4ea5-ad01-a5790958558c",
   "metadata": {},
   "outputs": [],
   "source": [
    "    SYSTEM_PROMPT = \"\"\"You identify and summarize the 5 most detailed job descriptions from a list, focusing on the most detailed responsibilities, required skills, and meaningful job titles. Respond strictly in JSON with no explanation, using this format:\n",
    "    \n",
    "    {\n",
    "      \"jobs\": [\n",
    "        {\n",
    "          \"job_title\": \"Extracted job title\",\n",
    "          \"responsibilities\": \"Detailed responsibilities\",\n",
    "          \"required_skills\": [\"Skill1\", \"Skill2\"],\n",
    "          \"prep_questions\": [\"Question1\", \"Question2\", \"Question3\"],\n",
    "          \"url\": \"Job URL\"\n",
    "        },\n",
    "        ...\n",
    "      ]\n",
    "    }\n",
    "    \n",
    "    The most important factor is the quality and clarity of responsibilities and skills. Do not include vague or generic jobs. Focus on technical and specific roles with clear descriptions.\n",
    "    \"\"\""
   ]
  },
  {
   "cell_type": "code",
   "execution_count": 13,
   "id": "a076e536-a711-45dd-9d19-e5f3ae7cd157",
   "metadata": {},
   "outputs": [],
   "source": [
    "    USER_PROMPT_PREFIX = \"\"\"Respond with the 5 most detailed job descriptions, focusing on:\n",
    "    - Specific responsibilities (minimum 2 sentences)\n",
    "    - Clearly listed required skills (minimum 2 skills)\n",
    "    - Generate 3 interview preparation questions for each job.\n",
    "    \n",
    "    Respond strictly in JSON and ensure all jobs include:\n",
    "    - Job title\n",
    "    - Responsibilities\n",
    "    - Required skills\n",
    "    - Prep questions\n",
    "    - URL\n",
    "    \n",
    "    Job Descriptions:\n",
    "    \"\"\"\n"
   ]
  },
  {
   "cell_type": "code",
   "execution_count": 15,
   "id": "62ab8dd2-dcb1-4a98-8990-996385490fa7",
   "metadata": {},
   "outputs": [],
   "source": [
    "USER_PROMPT_SUFFIX = \"\\n\\nStrictly respond in JSON with up to 5 jobs.\""
   ]
  },
  {
   "cell_type": "code",
   "execution_count": 16,
   "id": "cf674499-3d3e-475b-94cb-76a474a2eb27",
   "metadata": {},
   "outputs": [],
   "source": [
    "USER_PROMPT_PREFIX += '\\n\\n'.join([job.describe() for job in jobs])"
   ]
  },
  {
   "cell_type": "code",
   "execution_count": 20,
   "id": "4278037f-0a16-4631-b8f1-65da89eb765f",
   "metadata": {
    "scrolled": true
   },
   "outputs": [
    {
     "name": "stdout",
     "output_type": "stream",
     "text": [
      "Respond with the 5 most detailed job descriptions, focusing on:\n",
      "- Specific responsibilities (minimum 2 sentences)\n",
      "- Clearly listed required skills (minimum 2 skills)\n",
      "- Generate 3 interview preparation questions for each job.\n",
      "\n",
      "Respond strictly in JSON and ensure all jobs include:\n",
      "- Job title\n",
      "- Responsibilities\n",
      "- Required skills\n",
      "- Prep questions\n",
      "- URL\n",
      "\n",
      "Job Descriptions:\n",
      "Title: Multifunction App for Performing Arts Lovers\n",
      "Company: Unknown Company\n",
      "Location: Unknown Location\n",
      "Summary: Create an application that combines a comprehensive platform for art dance (including ballet), music and cultural events. The application includes՝  • Profiles of artists and creatives.  • Ticket sales for ballet and other cultural events... (Budget: $250 - $750 USD, Jobs: Android, Graphic Design, iPhone, Logo Design, Mobile App Development)\n",
      "URL: https://www.freelancer.com/projects/iphone-app-development/Multifunction-App-for-Performing-Arts.html\n",
      "\n",
      "Title: COM Port Troubleshooting on WinIot C# App\n",
      "Company: Unknown Company\n",
      "Location: Unknown Location\n",
      "Summary: I'm experiencing issues with an existing application on WinIot, written in C#. The application uses two USB ports with VCP, virtual serial ports, and communicates via FTDI chips on the COM interface.  - The problem: The serial COM ports are failing during communication and not restoring operation... (Budget: $750 - $1500 USD, Jobs: C Programming, C# Programming, C++ Programming, Microcontroller, Software Architecture)\n",
      "URL: https://www.freelancer.com/projects/cplusplus-programming/COM-Port-Troubleshooting-WinIot-App.html\n",
      "\n",
      "Title: Modern Minimalist Logo &amp; Branding Design\n",
      "Company: Unknown Company\n",
      "Location: Unknown Location\n",
      "Summary: I'm looking for a talented designer to create a modern and minimalist logo and branding for my business.   Key Requirements: - Design a logo that incorporates both text and an icon - Utilize a neutral... (Budget: $30 - $250 USD, Jobs: Corporate Identity, Graphic Design, Illustrator, Logo Design, Photoshop)\n",
      "URL: https://www.freelancer.com/projects/logo-design/Modern-Minimalist-Logo-Branding-Design.html\n",
      "\n",
      "Title: Amazon Invoices Downloader\n",
      "Company: Unknown Company\n",
      "Location: Unknown Location\n",
      "Summary: I'm looking for a Windows-compatible downloader that can fetch my Amazon invoices.   I am using Amazon.pl and Amazon.de to purchase and invoices is on those two domains.  It could be Chrome, Firefox extension,... (Budget: €8 - €30 EUR, Jobs: Extensions & Additions, JavaScript, Python, Software Architecture, Web Scraping)\n",
      "URL: https://www.freelancer.com/projects/python/Amazon-Invoices-Downloader.html\n",
      "\n",
      "Title: Install a New WordPress Theme with Proper Setup\n",
      "Company: Unknown Company\n",
      "Location: Unknown Location\n",
      "Summary: 1. Theme Installation: Install a new WordPress theme. The theme must be installed properly with a child theme to allow future updates without losing customizations.   2. Content Preservation: The site currently has 30-40 articles, and all existing content must be preserved during the process... (Budget: $10 - $30 USD, Jobs: CSS, HTML, PHP, Website Design, WordPress)\n",
      "URL: https://www.freelancer.com/projects/wordpress/Install-New-WordPress-Theme-with.html\n",
      "\n",
      "Title: Wholesale Inventory and Sales Web App\n",
      "Company: Unknown Company\n",
      "Location: Unknown Location\n",
      "Summary: Functional Requirements  Inventory Management:  - Store and edit product information, including code, description, quantity, price, and image. - Add new products and delete existing ones as needed.  Product... (Budget: $750 - $1500 USD, Jobs: Angular, Google Firebase, Node.js, PostgreSQL, Vue.js)\n",
      "URL: https://www.freelancer.com/projects/angular/Wholesale-Inventory-Sales-Web-App.html\n",
      "\n",
      "Title: AI-Driven Mobile App Development\n",
      "Company: Unknown Company\n",
      "Location: Unknown Location\n",
      "Summary: I'm seeking a skilled freelancer specializing in AI, coding, and design for a mobile application project. The primary focus of this project is on AI development.  Key areas of expertise: - AI development:... (Budget: ₹250000 - ₹500000 INR, Jobs: Android, Graphic Design, iPhone, Mobile App Development, User Interface / IA)\n",
      "URL: https://www.freelancer.com/projects/mobile-app-development/Driven-Mobile-App-Development.html\n",
      "\n",
      "Title: Professional American Commercial Voice Over\n",
      "Company: Unknown Company\n",
      "Location: Unknown Location\n",
      "Summary: I'm seeking a professional voice over artist for a commercial project. The voice needs to have a clear, polished American accent.   Key requirements: - Experience with commercial voice over - Professional... (Budget: $10 - $20 USD, Jobs: Audio Production, Audio Services, Music, Sound Design, Voice Talent)\n",
      "URL: https://www.freelancer.com/projects/voice-talent/Professional-American-Commercial-Voice.html\n",
      "\n",
      "Title: Multiplayer Setup for FPS in Unreal\n",
      "Company: Unknown Company\n",
      "Location: Unknown Location\n",
      "Summary: I'm in the midst of developing a first-person shooter game using Unreal Engine and I require assistance specifically with the multiplayer configuration.   Key Responsibilities: - Creating an very Standard Inventory System, the likes of Unreal Tournament and Quake... (Budget: $10 - $30 USD, Jobs: C++ Programming, Game Development)\n",
      "URL: https://www.freelancer.com/projects/cplusplus-programming/Multiplayer-Setup-for-FPS-Unreal.html\n",
      "\n",
      "Title: Modern WordPress Dive Theme Blog &amp; Store\n",
      "Company: Unknown Company\n",
      "Location: Unknown Location\n",
      "Summary: Hi, my name is Rebekah. I was paralyzed almost five years ago and desire to start a personal blog sharing my journey, useful information and products I have found in my healing process. I'm seeking an... (Budget: $250 - $750 USD, Jobs: Graphic Design, HTML, PHP, Website Design, WordPress)\n",
      "URL: https://www.freelancer.com/projects/website-design/Modern-WordPress-Dive-Theme-Blog.html\n",
      "\n",
      "Title: Sales Executive\n",
      "Company: G-P\n",
      "Location: Boston, Massachusetts, United States\n",
      "Summary: <p>&nbsp;</p><p>At G-P, our mission is to break down barriers to global business, enabling opportunities for everyone, everywhere. With remote-first and diverse teams all around the world, our people are the key to achieving this mission.</p><p>That’s why we trust our Dream Team members with the flexibility and autonomy to do their best and most innovative work, encourage and support their personal growth and career development, and believe in recognition for a job well done.</p><p>The work you’ll be a part of here will have a positive impact on people and their work/life possibilities around the world. Our industry-leading SaaS-based Global Employment Platform™ enables our customers to expand and grow into 180+ countries, creating more opportunities for global success – without requiring entity or subsidiary setup. Beyond the power of our platform, we never forget that behind every hire is a human being. And that brings us to you.</p><p>Beyond a competitive compensation and benefits package, what we offer to all employees is the clear and simple promise of Opportunity Made Possible. Come expand your skills in new ways and experience the thrill of impacting the way the world works, today and in the future.</p><p>&nbsp;</p><p><strong>About the Position:</strong></p><p>As a Sales Executive at G-P, you are leading the charge in breaking down barriers to global business. Our AI-driven, automated, fully compliant global Employer of Record platform is overlaid by a SaaS offering that puts our hyper-localized HR, finance legal systems into a self-service customer experience.</p><p><strong>What you'll do:</strong></p><p>Using strong consultative selling skills, you will primarily focus on driving self-sourced leads to build your pipeline. You will actively seek out new business opportunities and establish connections with potential clients, while also partnering closely with internal stakeholders to achieve team goals and work towards team’s revenue targets.</p><p>Individuals in this customer-facing role send a critical message about G-P as a company and should aspire to demonstrate excellence in international space building on consultative sales expertise, while focusing heavily on customer needs.</p><p>Are you ready to work for a company that has continuously being recognized as a Top Place to work?</p><p><strong>What we're looking for:</strong></p><ul><li>5+ years of proven experience in technology sales, data related software and/or cloud-based applications</li><li>Demonstrated ability to independently source and generate new business opportunities, focusing on the French market</li><li>Proven experience building and maintaining professional, consultative relationships with the client, up to and including the C-level for mid-to-large accounts achieved via developing a core understanding of the unique business needs of the client within their industry</li><li>Track record of selling Business Value vs Product</li><li>Excellent verbal and written communication, presentation, and relationship management skills</li></ul><p>People are the heartbeat of the company and the key to making Globalization Partners an inclusive and fun place to work – a collaborative environment where you can make a real impact and love the work you’re doing!</p><p>&nbsp;</p><p>The annual gross base salary range for this position is $80,000-$85,000 plus commissions.</p><p>G-P values its employees and offers excellent benefits and perks including generous paid parental leave, flexible time off, flexible spending accounts, medical Insurance, dental insurance, vision insurance, sabbatical after 5 years of service and more.</p><p>We will consider for employment all qualified applicants, including those with arrest records, conviction records, or other criminal histories, in a manner consistent with the requirements of any applicable state and local laws, including the City of Los Angeles’ Fair Chance Initiative for Hiring Ordinance, the San Francisco Fair Chance Ordinance, and the New York City Fair Chance Act.&nbsp;</p><p><br /><br /><br />#LI-JT</p><p>&nbsp;</p><p>&nbsp;</p>\n",
      "URL: https://remoteOK.com/remote-jobs/remote-sales-executive-g-p-1058619\n",
      "\n",
      "Title: Territory Manager Peripheral Schweiz\n",
      "Company: Penumbra\n",
      "Location: Switzerland\n",
      "Summary: <p><b>#Innovation</b>,<b> #Teamarbeit </b>und<b>&nbsp;#Initiative</b>  sind unsere gemeinsamen Werte. </p><p>Wenn du auf der Suche nach einer  sinnvollen Herausforderung in einem etablierten und schnell wachsenden  internationalen Unternehmen bist, dann komm zu uns ins Team und hilf  uns, jeden Tag Leben zu retten.</p><p><br /></p><p> Die Penumbra Europe GmbH mit  Sitz in Berlin und der Zentrale in Alameda, Kalifornien, ist ein  globales Gesundheits­unternehmen mit <a class=\"postings-link\" href=\"http://4.000\" rel=\"noopener noreferrer\">4.500</a> Mit­ar­bei­ten­den weltweit  und einem Jahres­umsatz von 1,2 Milliarden Dollar. Als schnell  wachsendes Unter­nehmen und wichtiger Player in der Medizin­technik  konzentrieren wir uns auf innovative Therapien für  Schlaganfallpatient*innen. Penumbra entwirft, entwickelt, produziert und  vermarktet neuartige medizin­technische Produkte mit einem breit  gefächerten Portfolio. Unsere Kunden sind Kranken­häuser und  Gesundheits­dienstleister im Direkt­vertrieb in den Vereinigten Staaten,  Europa, Kanada und Australien sowie Distributoren in ausgewählten  internationalen Märkten.</p><p><br /></p><p>Wir suchen zum nächstmöglichen Zeitpunkt in unbefristeter Anstellung einen <b>Territory Manager (m/w/d) Peripherie in Zürich.</b></p><p><br /></p><p><br /></p><p><b>Warum solltest du für Penumbra arbeiten?</b></p><p><br /></p><p>Wir bieten dir eine fantastische Mög­lich­keit, in der du die  Zukunft eines&nbsp;noch jungen Therapie­bereiches und des zu betreu­enden  Gebiets mit­ge­stal­ten kannst. Werde Teil eines erfah­renen, hoch  moti­vier­ten Teams, in dem alle an einem Strang ziehen und sich  gegen­seitig unter­stützen. Unsere vor­rangige Mission ist es, Lösungen  für die endo­vas­kuläre Behand­lung des ischä­mi­schen und  hämorrha­gischen Schlag­anfalls aufzu­zeigen, um dessen Folgen für  Patienten so gering wie möglich zu halten. Seit mitt­ler­weile rund 20  Jahren ent­wickelt Penumbra mittels modernster Medizin­technik die  ent­spre­chen­den Systeme konti­nu­ier­lich weiter. Neben dem Trai­ning  bieten wir auch Unter­stüt­zung bei der Anwen­dung unserer Pro­dukte an.</p><p><br /></p><p>+ Werde&nbsp;Teil einer erfolgreichen, dynamischen und schnell wachsenden Firma</p><p>+ Vertrieb innovativer Produkte, die Leben retten und verändern</p><p>+ Maßgebliche Mitgestaltung des Marktes in der Therapie&nbsp;</p><p>+ Ein attraktives Gehaltspaket mit einem lukrativen Bonussystem</p><p>+ Firmenwagen zur privaten Nutzung</p><p>+ Gezieltes Onboarding mit fortlaufender Unterstützung durch Trainer / Vorgesetzten</p><p>+ Interessante Weiterentwicklungsmöglichkeiten</p><p>+ 250 € netto p. a. für Fitnessaktivitäten</p><p>+ Möglichkeit zur Nutzung eines Employee-Assistant-Programms</p><p>+ Vergünstigte Aktienoptionen</p>\\n<p></p><p><br /></p><b>Deine Aufgaben beinhalten</b><ul><li>Akquise, Aufbau und Entwicklung von Neukunden im Klinikumfeld</li><li>Betreuung, Beratung und Ausbau von Bestandskunden</li><li>Anwendungsberatung für Penumbra-Produkte bei interventionell arbeitenden Ärzten (Radiologie, Gefäßchirurgie und Kardiologie)</li><li>Durchführung aller verkaufsrelevanten Maßnahmen bei Produktneueinführungen und Präsentationen bei Anwendern und Einkauf</li><li>Kontaktpflege zu Entscheidungsträgern auf Kundenseite und Meinungsbildnern im Markt&nbsp;</li><li>Gebietsanalyse sowie strategische Accountplanung&nbsp;</li><li>Umsetzung von Verkaufs- und Marketingstrategien</li><li>Bereitschaft zur Begleitung von Prozeduren&nbsp;</li><li>Teilnahme an regionalen Messen und Kongressen&nbsp;</li><li>Enge Zusammenarbeit mit dem Innendienst und Marketing</li><li>Austausch und länderübergreifende Zusammenarbeit mit unserem europäischen Team</li></ul><p><br /></p><b>Deine Qualifikationen</b><ul><li>Abgeschlossene Ausbildung oder Studium in den Bereichen Medizin, Naturwissenschaften oder Betriebswirtschaft</li><li>Mehrjährige interventionelle Vertriebserfahrung mit hoher Abschlussorientierung</li><li>Gutes Verständnis für das Klinikumfeld&nbsp;</li><li>Begeisterungsfähigkeit, Überzeugungskraft und Verhandlungsbereitschaft</li><li>Ausgezeichnete Kommunikationsfähigkeiten sowie Präsentationsstärken</li><li>Hohe Lern- und Einsatzbereitschaft, Flexibilität und Engagement</li><li>Eigenständige Arbeitsweise und Zuverlässigkeit</li><li>Fließende Deutsch- sowie gute Englischkenntnisse in Wort und Schrift</li><li>Hohe Reisebereitschaft</li></ul><p><br /></p><p></p>\\n<p><b>Deine Bewerbung</b></p><p><br /></p><p>Bei Penumbra interessieren uns deine Qualifikationen und nicht  dein Geschlecht, deine ethnische Herkunft, deine Religion, deine  sexuelle Orientierung oder dein Alter. Wir möchten dich in unserem Team  haben, wenn du qualifiziert bist und gut zu unserer Kultur der  Zusammenarbeit passt.</p><p>Wenn du dich von unserer Stellenausschreibung angesprochen  fühlst und wir dein Interesse geweckt haben, freuen wir uns über deine  Bewerbung unter Angabe deiner Verfügbarkeit und deiner  Gehaltsvorstellung.</p>\n",
      "URL: https://remoteOK.com/remote-jobs/remote-territory-manager-peripheral-schweiz-penumbra-1058579\n",
      "\n",
      "Title: Senior Quality Assurance Automation Engineer\n",
      "Company: 3Pillar\n",
      "Location: Mexico\n",
      "Summary: <p>Embark on a pivotal journey to the forefront of Quality Assurance with 3Pillar Global!</p><p><br /></p><p>We invite you to join our elite team as we embark on missions critical to technological advancement and industry revolution. At 3Pillar, our dedication to excellence is unwavering, as we push the boundaries of cutting-edge technologies to transform industries. As a Senior QA Engineer, you will assume a leadership role in our dynamic team, guiding the assurance of quality and reliability across our groundbreaking projects. Whether it's transforming urban living, pioneering new media channels for enterprise companies, or driving healthcare innovation, your expertise will ensure our solutions not only meet but exceed the highest standards of quality and performance.</p><p><br /></p><p>This role transcends traditional testing—it's about championing quality excellence and spearheading initiatives that ensure the delivery of impeccable products with a lasting impact.&nbsp;</p><p>With your seasoned judgment, meticulous attention to detail, and commitment to excellence, you will lead by example, mentoring junior engineers and setting new benchmarks in quality assurance.</p><p><br /></p><p>If you're driven by a passion to make a tangible impact and lead quality initiatives at the cutting edge of product development, your journey starts here, at the heart of 3Pillar's Product Development realm.</p><p><br /></p><p><b style=\"font-size: 11pt;\">We are 3PILLAR GLOBAL</b>&nbsp;</p><p><br /></p><p><span style=\"font-size: 11pt;\">We build breakthrough software products that power digital businesses. We are an innovative product development partner whose solutions drive rapid revenue, market share, and customer growth for industry leaders in Software and SaaS, Media and Publishing, Information Services, and Retail.</span>&nbsp;</p><p><br /></p><p><span style=\"font-size: 11pt;\">Our key differentiator is our Product Mindset. Our development teams focus on building for outcomes and all of our team members around the globe are trained on the Product Mindset’s core values – Minimize Time to Value, Solve For Need, and Excel at Change. Our teams apply this mindset to build digital products that are customer-facing and revenue-generating. Our business-minded approach to agile development ensures that we align to client goals from the earliest conceptual stages through market launch and beyond.</span>&nbsp;</p>\\n<p></p><p><br /></p><b>Key Responsibilities</b><ul><li><b>Automated Testing Excellence:</b> Lead the development, implementation, and maintenance of automated test scripts using the latest tools and frameworks.&nbsp;</li><li><b>Strategic Testing: </b>Collaborate closely with development and QA teams to strategize and execute comprehensive end-to-end testing.&nbsp;</li><li><b>Pipeline Integration:</b> Drive the integration of automated tests into the workflows, ensuring seamless and continuous testing as an integral part of our development lifecycle.</li><li><b>Advanced Testing: </b>Utilize your advanced skills to conduct API testing and frontend testing.</li><li><b>Non-Functional Testing: </b>Spearhead the development of solutions capable of verifying the non-functional aspects of our systems, including performance, reliability, and memory consumption.</li></ul><p><br /></p><b>Minimum Qualifications</b><ul><li>Hands-on experience in software quality assurance, demonstrating a track record of success in test strategy, planning, execution, and maintenance, including the creation of comprehensive test documentation.</li><li>Hands-on experience working with automation tools preferable with Cypress, including advanced scripting for automation and the development of custom testing frameworks.</li><li>Hand-on experience in API testing. (e.g. Postman)</li><li>Experience in continuous integration (CI) and continuous delivery (CD) pipelines, with a strong understanding of how to optimize automated tests for efficiency and speed within CI/CD processes.</li><li>Advanced proficiency in programming languages relevant to test automation (such as Javascript, Typescript, Python, Java), demonstrating the ability to contribute to code base and automation scripts.</li><li>Good knowledge of databases and SQL, with experience executing complex data validation and interacting with databases for comprehensive backend testing.</li><li>Exceptional collaborative skills, with proven experience working effectively with cross-functional teams, leading quality assurance efforts, and fostering an environment of teamwork and cooperation.</li><li>Outstanding communication skills in English, both written and verbal, with the ability to communicate complex technical issues clearly to team members, stakeholders, and customers.</li><li>Highly self-motivated and detail-oriented, with proven ability to work independently and under pressure, managing multiple projects and priorities effectively.</li></ul><p><br /></p><b>Additional Experience Desired</b><ul><li>Familiarity with cloud technologies, preferable AWS.</li><li>Nice to have experience with Docker containers</li><li>Experience leading QA process integration across the full Software Development Life Cycle (SDLC), enhancing team capabilities in delivering high-quality software from inception to deployment.</li><li>Nice to have experience in performance and load testing, using tools like k6, LoadRunner or JMeter</li><li>Nice to have experience in security testing practices, with knowledge of common security vulnerabilities and experience using tools (e.g., OWASP ZAP, Fortify) to conduct security testing and risk assessment.</li></ul><p><br /></p><b>BENEFITS</b><ul><li>Medical Insurance benefits as per company policy.&nbsp;</li><li>Life Insurance as per company policy</li><li>15 days of paid vacation plus additional days based on tenure</li><li>Vacation bonus as per local law</li><li>Sick leave and paid holidays as per local law</li><li>Profit sharing as per local law</li><li>Paternity and maternity leave as per as per local law</li><li>Marriage, bereavement and graduation leaves as per company policy</li><li>Christmas bonuses as per local law</li><li>Work from home allowance as per company policy</li><li>Punctuality and attendance bonuses as per company policy</li><li>Food tickets as per company policy</li><li>Direct deposit of payroll.</li><li>Paid professional certifications</li></ul><div><br /></div><div>#Li-remote</div><p><br /></p><b>What is it like working for 3Pillar Global?</b><ul><li>At 3Pillar, we offer a world of opportunity:</li><li>Imagine a flexible work environment – whether it's the office, your home, or a blend of both. From interviews to onboarding, we embody a remote-first approach.&nbsp;</li><li>You will be part of a global team, learning from top talent around the world and across cultures, speaking English everyday. Our global workforce enables our team to leverage global resources to accomplish our work in efficient and effective teams.&nbsp;</li><li>We’re big on your well-being – as a company, we spend a whole trimester in our annual cycle focused on wellbeing. Whether it is taking advantage of fitness offerings, mental health plans (country-dependent), or simply leveraging generous time off, we want all of our team members operating at their best.</li><li>Our professional services model enables us to accelerate career growth and development opportunities - across projects, offerings, and industries.</li><li>We are an equal opportunity employer. It goes without saying that we live by values like Intrinsic Dignity and Open Collaboration to create cutting-edge technology AND reinforce our commitment to diversity - globally and locally.&nbsp;</li></ul><div><br /></div><div>Join us and be a part of a global tech community! 🌍💼&nbsp; Check out our Linkedin site and Careers page to learn more about what it’s like to be part of our #oneteam!&nbsp;</div><div><br /></div><p><br /></p><p></p>\\n\n",
      "URL: https://remoteOK.com/remote-jobs/remote-senior-quality-assurance-automation-engineer-3pillar-1058555\n",
      "\n",
      "Title: Support Specialist Operations\n",
      "Company: Restaurant365\n",
      "Location: Remote\n",
      "Summary: <p>Restaurant365 is a SaaS company disrupting the restaurant industry! Our cloud-based platform provides a&nbsp;unique, centralized solution for accounting and back-office operations for restaurants. Restaurant365’s culture is focused on empowering team members to produce top-notch results while elevating their skills. We’re constantly evolving and improving to make sure we are and always will be “Best in Class” ... and we want that for you too!</p><p><br /></p><p>Support Specialists, Operations are responsible for helping R365 customers with all R365 software operations, catering, scheduling, and manager log functions. They manage pertinent customer communications through tickets, live chats, and phone calls.</p>\\n<p></p><p><br /></p><b>How you'll add value: </b><ul><li>Prompt customers for information necessary to troubleshoot problem reports</li><li>Reach out to customers by phone and / or screen share as necessary to understand problem reports</li><li>Identify solutions to problem reports and deliver them to customers</li><li>Help customers understand R365 software operations, catering, scheduling, and manager log functions</li><li>Route non-operations customer issues to appropriate teams and team members</li><li>Diagnose and document software defects and escalate them to Operations Support, Manager or Lead</li><li>Participate in live chats</li><li>Manage personal queue of customer tickets</li><li>Identify gaps in company self-help documentation</li><li>Train and mentor new team members at the request of Support management</li><li>Additional duties as assigned</li></ul><p><br /></p><b>What you'll need to be successful in this role: </b><ul><li>Bachelor’s degree with emphasis in business and / or finance and / or accounting preferred</li><li>Restaurant industry experience</li><li>Strong understanding of general business principles</li><li>Excellent problem-solving skills</li><li>Strong customer service skills</li><li>Clear and effective oral and written communication</li><li>Strong grasp of software and internet technologies</li></ul><p><br /></p><b>R365 Team Member Benefits &amp; Compensation</b><ul><li>This position has a salary range of $26-$31/hour. The above range represents the expected salary range for this position. The actual salary may vary based upon several factors, including, but not limited to, relevant skills/experience, time in the role, business line, and geographic location. Restaurant365 focuses on equitable pay for our team and aims for transparency with our pay practices. </li><li>Comprehensive medical benefits, 100% paid for employee</li><li>401k + matching</li><li>Equity Option Grant</li><li>Unlimited PTO + Company holidays</li><li>Wellness initiatives</li></ul><div><br /></div><div>#BI-Remote</div><p><br /></p><p></p>\\n<div>$26 - $31 an hour</div>\\n<p>#LI-LH1</p><p><br /></p><p>R365 is an Equal Opportunity Employer and we encourage all forward-thinkers who embrace change and possess a positive attitude to apply. </p>\n",
      "URL: https://remoteOK.com/remote-jobs/remote-support-specialist-operations-restaurant365-1058410\n",
      "\n",
      "Title: Operations Data Support Specialist\n",
      "Company: Restaurant365\n",
      "Location: Remote\n",
      "Summary: <p>Restaurant365 is a SaaS company disrupting the restaurant industry! Our cloud-based platform provides a&nbsp;unique, centralized solution for accounting and back-office operations for restaurants. Restaurant365’s culture is focused on empowering team members to produce top-notch results while elevating their skills. We’re constantly evolving and improving to make sure we are and always will be “Best in Class” ... and we want that for you too!</p><p><br /></p><p><span style=\"font-size: 11pt;\">As an Operations Data Support Specialist, you will play a critical role in assisting the Managed Services Operations team in maintaining data integrity, managing customer inventory and recipe records, and supporting day-to-day operations within the Restaurant365 software platform. This position will allow you to take on essential operational tasks to help ensure that processes run smoothly and efficiently. You will work closely with the Associate Manager of Operations Data, relieving them of data centered task, status update communications to customers, and contributing to the overall success of our customers’ operational data.&nbsp;</span></p>\\n<p></p><p><br /></p><b>How you'll add value: </b><ul><li>Assist in maintaining the accuracy and integrity of customer inventory and recipe records in Restaurant365</li></ul><ul><li>Support the creation and maintenance of regular data checks and updates in alignment with established processes&nbsp;</li></ul><ul><li>Handle basic escalations and assist in resolving data discrepancies with guidance from the Operations Manager</li></ul><ul><li>Help to create and update process documents and flowcharts for operational tasks</li></ul><ul><li>Perform routine data entry and updates to ensure customer data remains current</li></ul><ul><li>Collaborate with other departments and assist in cross-platform data alignment</li></ul><ul><li>Track and report on routine metrics related to data accuracy and performance</li></ul><ul><li>Assist with monitoring and managing support tickets related to data maintenance</li></ul><ul><li>Contribute to a positive working environment through collaboration and proactive communication</li></ul><ul><li>Other duties as assigned to Support team&nbsp;</li></ul><p><br /></p><b>What you'll need to be successful in this role: </b><ul><li>Familiarity with inventory software.&nbsp;</li><li>1+ years of experience in the restaurant, hospitality, or related sectors, or a strong willingness to learn quickly</li><li>Intermediate proficiency with Microsoft Office, especially Outlook and Excel</li><li>Strong attention to detail and commitment to maintaining high data accuracy</li><li>Ability to manage time effectively and handle multiple tasks simultaneously</li><li>Clear and professional communication skills, both written and verbal</li><li>Eagerness to learn and develop within a fast-paced team environment</li></ul><div><br /></div><div><b>PREFERRED QUALIFICATIONS</b>&nbsp;</div><ul><li>Experience using the R365 Operations Module.&nbsp;</li><li>Previous experience with project management tools such as Monday.com</li><li>Familiarity with ticket management software like Freshdesk or similar</li></ul><p><br /></p><b>R365 Team Member Benefits &amp; Perks </b><ul><li>This position has a salary range of $24-$29/hour. The above range represents the expected salary range for this position. The actual salary may vary based upon several factors, including, but not limited to, relevant skills/experience, time in the role, business line, and geographic location. Restaurant365 focuses on equitable pay for our team and aims for transparency with our pay practices.</li><li>Comprehensive medical benefits, 100% paid for employee</li><li>401k + matching</li><li>Equity Option Grant</li><li>Unlimited PTO + Company holidays</li><li>Wellness initiatives</li></ul><p><br /></p><p></p>\\n<p><span style=\"font-size: 16px;\">#LI-LH1</span></p><p><br /></p><p>R365 is an Equal Opportunity Employer and we encourage all forward-thinkers who embrace change and possess a positive attitude to apply. </p>\n",
      "URL: https://remoteOK.com/remote-jobs/remote-operations-data-support-specialist-restaurant365-1058409\n",
      "\n",
      "Title: Data Entry Virtual Assistant\n",
      "Company: MasterCraft\n",
      "Location: \n",
      "Summary: <div class=\"__unstyled paragraph alignment--left paperform__page paperform__page--0\"><div class=\"public-DraftStyleDefault-block public-DraftStyleDefault-ltr\">The MasterCraft Boat Company is an American manufacturer of luxury high-performance boats. The company was founded in 1968 in Maryville, Tennessee, and is currently headquartered in Vonore, Tennessee.[1] MasterCraft boats are used in waterskiing, wakeboarding and wake surfing. The company has also produced several boats that are not focused on water sports, such as the NauticStar line of fishing boats. MasterCraft Boat Company is the flagship subsidiary of MasterCraft holdings. MasterCraft focuses on building towboats for water skiing, wakeboarding, and wake surfing.</div></div><div class=\"__unstyled paragraph alignment--left block--empty paperform__page paperform__page--0\"><div class=\"public-DraftStyleDefault-block public-DraftStyleDefault-ltr\"><br /></div></div><div class=\"__unstyled paragraph alignment--left paperform__page paperform__page--0\"><div class=\"public-DraftStyleDefault-block public-DraftStyleDefault-ltr\"><span style=\"font-weight: bold;\">As a Virtual Assistant, your responsibilities may vary on a day-to-day basis, but may include:</span></div></div><div class=\"__unstyled paragraph alignment--left block--empty paperform__page paperform__page--0\"><div class=\"public-DraftStyleDefault-block public-DraftStyleDefault-ltr\"><br /></div></div><div class=\"__unstyled paragraph alignment--left paperform__page paperform__page--0\"><div class=\"public-DraftStyleDefault-block public-DraftStyleDefault-ltr\">• Managing email and calendar appointments.</div></div><div class=\"__unstyled paragraph alignment--left paperform__page paperform__page--0\"><div class=\"public-DraftStyleDefault-block public-DraftStyleDefault-ltr\">• Performing administrative tasks such as data entry, document preparation, and record keeping.</div></div><div class=\"__unstyled paragraph alignment--left paperform__page paperform__page--0\"><div class=\"public-DraftStyleDefault-block public-DraftStyleDefault-ltr\">• Coordinating and scheduling meetings or conference calls.</div></div><div class=\"__unstyled paragraph alignment--left paperform__page paperform__page--0\"><div class=\"public-DraftStyleDefault-block public-DraftStyleDefault-ltr\">• Conducting research and compiling data as needed.</div></div><div class=\"__unstyled paragraph alignment--left paperform__page paperform__page--0\"><div class=\"public-DraftStyleDefault-block public-DraftStyleDefault-ltr\">• Assisting with project management and task tracking.</div></div><div class=\"__unstyled paragraph alignment--left paperform__page paperform__page--0\"><div class=\"public-DraftStyleDefault-block public-DraftStyleDefault-ltr\">• Providing general support to teams or individuals as needed.</div></div><div class=\"__unstyled paragraph alignment--left paperform__page paperform__page--0\"><div class=\"public-DraftStyleDefault-block public-DraftStyleDefault-ltr\">• Facilitating communications within the team and with external contacts.</div></div><div class=\"__unstyled paragraph alignment--left block--empty paperform__page paperform__page--0\"><div class=\"public-DraftStyleDefault-block public-DraftStyleDefault-ltr\"><br /></div></div><div class=\"__unstyled paragraph alignment--left paperform__page paperform__page--0\"><div class=\"public-DraftStyleDefault-block public-DraftStyleDefault-ltr\"><span style=\"font-weight: bold;\">Required Skills &amp; Qualifications:</span></div></div><div class=\"__unstyled paragraph alignment--left paperform__page paperform__page--0\"><div class=\"public-DraftStyleDefault-block public-DraftStyleDefault-ltr\">• Fluency in English, both written and verbal.</div></div><div class=\"__unstyled paragraph alignment--left paperform__page paperform__page--0\"><div class=\"public-DraftStyleDefault-block public-DraftStyleDefault-ltr\">• Flexibility to work 45 hours per week (Monday-Friday) according to US timezone.</div></div><div class=\"__unstyled paragraph alignment--left paperform__page paperform__page--0\"><div class=\"public-DraftStyleDefault-block public-DraftStyleDefault-ltr\">• Possession of Matric (Grade 12) or its equivalent.</div></div><div class=\"__unstyled paragraph alignment--left paperform__page paperform__page--0\"><div class=\"public-DraftStyleDefault-block public-DraftStyleDefault-ltr\">• Typing speed of at least 40 words per minute.</div></div><div class=\"__unstyled paragraph alignment--left paperform__page paperform__page--0\"><div class=\"public-DraftStyleDefault-block public-DraftStyleDefault-ltr\">• Highly driven, career-oriented individual.</div></div><div class=\"__unstyled paragraph alignment--left paperform__page paperform__page--0\"><div class=\"public-DraftStyleDefault-block public-DraftStyleDefault-ltr\">• Minimum of 2 years of experience in an administrative or support role.</div></div><div class=\"__unstyled paragraph alignment--left paperform__page paperform__page--0\"><div class=\"public-DraftStyleDefault-block public-DraftStyleDefault-ltr\">• Skilled in both Microsoft Office and Google Workspace.</div></div><div class=\"__unstyled paragraph alignment--left paperform__page paperform__page--0\"><div class=\"public-DraftStyleDefault-block public-DraftStyleDefault-ltr\">• Ability to edit PDF documents.</div></div><div class=\"__unstyled paragraph alignment--left paperform__page paperform__page--0\"><div class=\"public-DraftStyleDefault-block public-DraftStyleDefault-ltr\">• Experience in marketing (desirable).</div><div class=\"public-DraftStyleDefault-block public-DraftStyleDefault-ltr\"><br /></div><div class=\"public-DraftStyleDefault-block public-DraftStyleDefault-ltr\">Forward your Resume/CV to  staffing@themasterscrafts.com  ASAP</div></div>\n",
      "URL: https://remoteOK.com/remote-jobs/remote-data-entry-virtual-assistant-mastercraft-1058257\n",
      "\n",
      "Title: WFH Customer Service Representative\n",
      "Company: MasterCraft\n",
      "Location: \n",
      "Summary: <div class=\"__unstyled paragraph alignment--left paperform__page paperform__page--0\"><div class=\"public-DraftStyleDefault-block public-DraftStyleDefault-ltr\"><span style=\"font-weight: bold;\">your responsibilities may vary on a day-to-day basis, but may include:</span></div></div><div class=\"__unstyled paragraph alignment--left block--empty paperform__page paperform__page--0\"><div class=\"public-DraftStyleDefault-block public-DraftStyleDefault-ltr\"><br /></div></div><div class=\"__unstyled paragraph alignment--left paperform__page paperform__page--0\"><div class=\"public-DraftStyleDefault-block public-DraftStyleDefault-ltr\">• Managing email and calendar appointments.</div></div><div class=\"__unstyled paragraph alignment--left paperform__page paperform__page--0\"><div class=\"public-DraftStyleDefault-block public-DraftStyleDefault-ltr\">• Performing administrative tasks such as data entry, document preparation, and record keeping.</div></div><div class=\"__unstyled paragraph alignment--left paperform__page paperform__page--0\"><div class=\"public-DraftStyleDefault-block public-DraftStyleDefault-ltr\">• Coordinating and scheduling meetings or conference calls.</div></div><div class=\"__unstyled paragraph alignment--left paperform__page paperform__page--0\"><div class=\"public-DraftStyleDefault-block public-DraftStyleDefault-ltr\">• Conducting research and compiling data as needed.</div></div><div class=\"__unstyled paragraph alignment--left paperform__page paperform__page--0\"><div class=\"public-DraftStyleDefault-block public-DraftStyleDefault-ltr\">• Assisting with project management and task tracking.</div></div><div class=\"__unstyled paragraph alignment--left paperform__page paperform__page--0\"><div class=\"public-DraftStyleDefault-block public-DraftStyleDefault-ltr\">• Providing general support to teams or individuals as needed.</div></div><div class=\"__unstyled paragraph alignment--left paperform__page paperform__page--0\"><div class=\"public-DraftStyleDefault-block public-DraftStyleDefault-ltr\">• Facilitating communications within the team and with external contacts.</div></div><div class=\"__unstyled paragraph alignment--left block--empty paperform__page paperform__page--0\"><div class=\"public-DraftStyleDefault-block public-DraftStyleDefault-ltr\"><br /></div></div><div class=\"__unstyled paragraph alignment--left paperform__page paperform__page--0\"><div class=\"public-DraftStyleDefault-block public-DraftStyleDefault-ltr\"><span style=\"font-weight: bold;\">Required Skills &amp; Qualifications:</span></div></div><div class=\"__unstyled paragraph alignment--left paperform__page paperform__page--0\"><div class=\"public-DraftStyleDefault-block public-DraftStyleDefault-ltr\">• Fluency in English, both written and verbal.</div></div><div class=\"__unstyled paragraph alignment--left paperform__page paperform__page--0\"><div class=\"public-DraftStyleDefault-block public-DraftStyleDefault-ltr\">• Flexibility to work 45 hours per week (Monday-Friday) according to US timezone.</div></div><div class=\"__unstyled paragraph alignment--left paperform__page paperform__page--0\"><div class=\"public-DraftStyleDefault-block public-DraftStyleDefault-ltr\">• Possession of Matric (Grade 12) or its equivalent.</div></div><div class=\"__unstyled paragraph alignment--left paperform__page paperform__page--0\"><div class=\"public-DraftStyleDefault-block public-DraftStyleDefault-ltr\">• Typing speed of at least 40 words per minute.</div></div><div class=\"__unstyled paragraph alignment--left paperform__page paperform__page--0\"><div class=\"public-DraftStyleDefault-block public-DraftStyleDefault-ltr\">• Highly driven, career-oriented individual.</div></div><div class=\"__unstyled paragraph alignment--left paperform__page paperform__page--0\"><div class=\"public-DraftStyleDefault-block public-DraftStyleDefault-ltr\">• Minimum of 2 years of experience in an administrative or support role.</div></div><div class=\"__unstyled paragraph alignment--left paperform__page paperform__page--0\"><div class=\"public-DraftStyleDefault-block public-DraftStyleDefault-ltr\">• Skilled in both Microsoft Office and Google Workspace.</div></div><div class=\"__unstyled paragraph alignment--left paperform__page paperform__page--0\"><div class=\"public-DraftStyleDefault-block public-DraftStyleDefault-ltr\">• Ability to edit PDF documents.</div></div><div class=\"__unstyled paragraph alignment--left paperform__page paperform__page--0\"><div class=\"public-DraftStyleDefault-block public-DraftStyleDefault-ltr\">• Experience in marketing (desirable).</div><div class=\"public-DraftStyleDefault-block public-DraftStyleDefault-ltr\"><br /></div><div class=\"public-DraftStyleDefault-block public-DraftStyleDefault-ltr\">Forward your Resume/CV to  staffing@themasterscrafts.com  ASAP<br /></div><div class=\"public-DraftStyleDefault-block public-DraftStyleDefault-ltr\"><br /></div></div>\n",
      "URL: https://remoteOK.com/remote-jobs/remote-wfh-customer-service-representative-mastercraft-1058168\n",
      "\n",
      "Title: AR and AP Specialist\n",
      "Company: 1840 &amp; Company\n",
      "Location: Buenos Aires, Buenos Aires\n",
      "Summary: <p>We are actively seeking talented <b>remote</b>&nbsp;<b>Accounts Receivable (AR) /Accounts Payable (AP) Specialist </b>to join our team in<b> Argentina. This is a part time role (20 hours).</b></p>\\n<p></p><p><br /></p><b>Key Responsibilities:</b><ul><li><b>Invoice Processing: </b>Review and process a high volume of invoices accurately and in a timely manner.</li><li><b>Payment Management: </b>Prepare payment runs, including checks, wire transfers, and ACH payments.</li><li><b>Vendor Communication: </b>Communicate with vendors regarding payment inquiries, discrepancies, and statement reconciliations.</li><li><b>Data Entry:</b> Enter and maintain AP data in the accounting system, ensuring accuracy and consistency.</li><li><b>Reconciliation:</b> Reconcile accounts payable transactions and monitor aging reports to ensure timely payment of invoices.</li><li><b>Expense Management:</b> Track and manage employee expense reports, ensuring compliance with company policies.</li><li><b>Month-End Close:</b> Assist with month-end close processes, including the preparation of accounts payable accruals and reconciliation of accounts.</li><li><b>Documentation: </b>Maintain organized and thorough documentation for all AP transactions, including digital filing as needed.</li><li><b>Compliance:</b> Ensure all AP activities comply with company policies and relevant regulations.</li></ul><p><br /></p><b>Qualifications:</b><ul><li><b>Experience:</b> 2-3 years of accounts payable or general accounting experience.</li><li><b>Technical Skills: </b>Proficiency in Microsoft Office (especially Excel) and familiarity with accounting software (e.g., SAP, QuickBooks, or similar platforms).</li><li><b>Skills: </b>Strong attention to detail, excellent organizational and time-management skills, and effective communication abilities.</li><li><b>Work Ethic:</b> Ability to handle confidential information with integrity and professionalism.</li><li><b>Problem-Solving:</b> Analytical mindset and problem-solving skills to address payment issues and discrepancies.</li></ul><p><br /></p><p></p>\\n<div>$6 - $6 an hour</div>\\n<p><b>About 1840 &amp; Company</b></p><p><br /></p><p>1840 &amp; Company is a global leader in Business Process Outsourcing (BPO) and remote talent solutions, dedicated to propelling businesses forward through our comprehensive suite of services. We specialize in connecting companies with world-class freelance professionals and delivering top-tier outsourcing services, across over 150 countries worldwide.</p><p><br /></p><p>Our mission is to empower growth for forward-thinking businesses, seamlessly bridging any skill or resource gaps with our expertly vetted talent pool. We firmly believe in fostering an environment where exceptional individuals can achieve an optimal work-life balance, working remotely from any location, while maximizing their professional growth and earning potential.</p><p><br /></p><p>We are headquartered in Overland Park, KS, USA with service delivery facilities in the Philippines, India, Ukraine, South Africa and Argentina. We invite you to explore the opportunities we offer and consider joining our exclusive network of global freelance talent. Visit&nbsp;<a class=\"postings-link\" href=\"http://www.1840andco.com/\" rel=\"noopener noreferrer\">www.1840andco.com</a>&nbsp;to learn more about us. To explore a wealth of career opportunities and find a role that suits your unique skills and aspirations, please visit our dedicated jobs portal at&nbsp;<a class=\"postings-link\" href=\"https://jobs.1840andco.com/\" rel=\"noopener noreferrer\">jobs.1840andco.com</a>.  #LI-MA1</p>\n",
      "URL: https://remoteOK.com/remote-jobs/remote-ar-and-ap-specialist-1840-amp-company-1058117\n",
      "\n",
      "Title: Partner Solutions Architect India\n",
      "Company: JumpCloud\n",
      "Location: \n",
      "Summary: <p><b style=\"font-size: 16px;\">All roles at JumpCloud are Remote unless otherwise specified in the Job Description.</b></p><p><br /></p><p><b style=\"font-size: 16px;\">About JumpCloud</b></p><p><span style=\"font-size: 16px;\">JumpCloud® delivers a unified open directory platform that makes it easy to securely manage identities, devices, and access across your organization. With JumpCloud®, IT teams and MSPs enable users to work securely from anywhere and manage their Windows, Apple, Linux, and Android devices from a single platform. JumpCloud® is IT Simplified.</span></p><p><br /></p><p><br /></p><p><b style=\"font-size: 16px;\">About the Role</b></p><p><br /></p><p><span style=\"font-size: 16px;\">We are looking for inspired technology professionals who love the challenge of working with partners to help them migrate customers from their Active Directory, Okta, and other identity management directories to the JumpCloud platform through a structured, efficient, outcome-based process while leveraging your expertise and all available JumpCloud resources. Partner Solutions Architects at JumpCloud will have the opportunity to work with a wide variety of partners on structured engagements to provide a strong trusted technical bridge, from the start of their implementation through to their continued expansion and use of JumpCloud. A Partner Solutions Architect will develop insight into partner operations and function at a high level to enhance the partner’s experience with JumpCloud.</span></p><p><br /></p>\\n<p></p><p><br /></p><b>In this position, you will: </b><ul><li>Gain a deep understanding of your partner’s environment and technical business needs through detailed and thorough discovery sessions.</li><li>Help define applicable milestones for your partner’s intended use of JumpCloud.</li><li>Develop and articulate a clear vision and plan to achieve those milestones.</li><li>Partner with your CSM counterpart to proactively drive efficient adoption of the JumpCloud platform and progress towards usage targets and milestones for each partner you work with.</li><li>Confidently provide technical guidance to our partners and their customers through complex architectural conversations, from User Adoption strategy and Onboarding to custom SCIM integrations and beyond.</li><li>Perform systematic environment reviews with partners to ensure adherence to best practices and identify areas for improvement or expansion.</li><li>Work closely with larger partner organizations on long-term or ongoing engagements.</li><li>Communicate regularly with partners about their planned expansion, environment changes or updates as they relate to JumpCloud and potential use-cases.</li><li>Work hands-on in partner environments when applicable to execute migration or configuration tasks.</li><li>Escalate and reproduce issues in-house and respond in a timely manner.</li><li>Clearly and thoroughly notate partner interactions, goals and outcomes for your own reference and to share with internal stakeholders and peers.</li><li>Test new use-cases using in-house and industry tools, and document the outcomes for partners and in our internal knowledge repository.</li><li>Collaborate with peers, mentors, knowledge base authors, community forum leaders and other internal and external tools, to provide the most effective, world-class solutions for our partners, prospects, and their customers.</li><li>Assist with onboarding of new PS Team Members and share your SME-level knowledge internally and externally.</li><li>Consult, plan, and execute implementations of JumpCloud alongside other PS engagements and projects as-needed.</li><li>Provide regular feedback and stakeholder participation in process and tooling enhancements related to the delivery of Professional Services for our partners.</li></ul><p><br /></p><b>We’re looking for… someone who likes the challenge of ensuring the success and delight of partners and customers when using our software products who displays phenomenal abilities to demonstrate and articulate technical concepts in front of technical audiences.</b><ul><li>A strong desire to see partners win and be successful at their jobs through the utilization of our Open Directory Platform software</li><li><b>6 or more years experience in a prior SaaS, professional services, Directory administrator, or implementation role(s)</b></li><li><b>Minimum 1 year of experience in a prior technical JumpCloud role, or equivalent experience with the JumpCloud admin console</b></li><li>Prior experience performing IT work through a MSP or VAR organization</li><li>Deep technical expertise and a high aptitude in a customer-facing position</li><li>Project management, time management &amp; planning skills</li><li>Strong aptitude for learning new technologies and understanding how to utilize them in a customer-facing environment</li><li>Strong oral and written communication skills&nbsp;</li><li>Possesses a logical approach to problem solving</li><li>Proven ability to understand/test/configure various integration and connectivity enhancing technologies in various environments</li><li>Willing to travel on-site to customer and partner locations if required</li></ul><p><br /></p><b>Previous work experience as an IT Admin or SysAdmin in a technical domain, or positioning a SaaS product to those audiences, and an advanced understanding of the following technologies is strongly preferred:</b><ul><li>Administrating or supporting Medium-to-Large scale SMB environments &amp; architecture</li><li>Microsoft 365 and AzureAD experience</li><li>Active Directory expertise, MCSA/MCSE, or prior AD administrative experience required</li><li>Apple MDM, AD Device Management, AzureAD Connect, and Intune</li><li>Okta administrative experience or certification preferred</li><li>Google Workspace administrative experience</li><li>AWS Experience &amp; Skills desired (S3, Lambda, EC2, CloudWatch)</li><li>Device Management - Windows, macOS, iOS, Android and Linux Operating Systems</li><li>LDAP administration, troubleshooting, and maintenance experience</li><li>Networking &amp; Authentication (RADIUS, LDAP, SSH, SMB/Samba)</li><li>In-depth knowledge of Single Sign-on, SCIM, JIT, OIDC and SAML</li><li>Scripting experience, PowerShell preferred</li><li>User onboarding and offboarding</li><li>Software systems setup and configuration experience</li><li>Bachelors degree desired</li></ul><p><br /></p><p></p>\\n<p>#LI-MA</p><p><br /></p><p><b style=\"font-size: 18px;\">Where you’ll be working/Location:</b></p><p><span style=\"font-size: 16px;\">JumpCloud is committed to being Remote First, meaning that you are able to work remotely within the country noted in the Job Description.</span></p><p><br /></p><p><span style=\"font-size: 16px;\"><b>This role is remote in the country of India. You must be located in and authorized to work in India to be considered for this role.  </b></span></p><p><br /></p><p><b style=\"font-size: 18px;\">Language: </b></p><p><span style=\"font-size: 16px;\">JumpCloud® has teams in 15+ countries around the world and conducts our internal business in English. The interview and any additional screening process will take place primarily in English. To be considered for a role at JumpCloud®, you will be required to speak and write in English fluently.&nbsp; Any additional language requirements will be included in the details of the job description.</span></p><p><br /></p><p><b style=\"font-size: 18px;\">Why JumpCloud? </b><span style=\"font-size: 18px;\">&nbsp;</span></p><p><span style=\"font-size: 16px;\">If you thrive working in a fast, SaaS-based environment and you are passionate about solving challenging technical problems, we look forward to hearing from you! JumpCloud® is an incredible place to share and grow your expertise! You’ll work with amazing talent across each department who are passionate about our mission. We’re out of the box thinkers, so your unique ideas and approaches for conceiving a product and/or feature will be welcome. You’ll have a voice in the organization as you work with a seasoned executive team, a supportive board and in a proven market that our customers are excited about.&nbsp;&nbsp;</span></p><p><br /></p><p><span style=\"font-size: 16px;\">One of JumpCloud®'s three core values is to “Build Connections.” To us that means creating \" human connection with each other regardless of our backgrounds, orientations, geographies, religions, languages, gender, race, etc. We care deeply about the people that we work with and want to see everyone succeed.\" - Rajat Bhargava, CEO</span></p><p><br /></p><p><span style=\"font-size: 16px;\">Please submit your résumé and brief explanation about yourself and why you would be a good fit for JumpCloud®.&nbsp; Please note JumpCloud® is not accepting third party resumes at this time.&nbsp; &nbsp;</span></p><p><br /></p><p><span style=\"font-size: 16px;\">JumpCloud® is an equal opportunity employer. All applicants will be considered for employment without attention to race, color, religion, sex, sexual orientation, gender identity, national origin, veteran or disability status.</span></p><p><br /></p><p><span style=\"font-size: 18px;\"><b>Scam Notice:</b></span></p><p><span style=\"font-size: 15px;\">Please be aware that there are individuals and organizations that may attempt to scam job seekers by offering fraudulent employment opportunities in the name of JumpCloud. These scams may involve fake job postings, unsolicited emails, or messages claiming to be from our recruiters or hiring managers. Please note that JumpCloud will never ask for any personal account information, such as credit card details or bank account numbers, during the recruitment process. Additionally, JumpCloud will never send you a check for any equipment prior to employment.</span></p><p><br /></p><p><span style=\"font-size: 15px;\">All communication related to interviews and offers from our recruiters and hiring managers will come from official company email addresses (@jumpcloud.com) and will never ask for any payment, fee to be paid or purchases to be made by the job seeker. If you are contacted by anyone claiming to represent JumpCloud and you are unsure of their authenticity, please do not provide any personal/financial information and contact us immediately at recruiting@jumpcloud.com with the subject line \"Scam Notice\"</span></p><p><br /></p><p><span style=\"font-size: 10px;\">#LI-Remote #BI-Remote</span></p>\n",
      "URL: https://remoteOK.com/remote-jobs/remote-partner-solutions-architect-india-jumpcloud-1058101\n",
      "\n",
      "Title: Financial Controller\n",
      "Company: 1840 &amp; Company\n",
      "Location: Quezon City, Metro Manila\n",
      "Summary: <p>The Financial Controller will be responsible for overseeing and managing the company’s financial operations, ensuring accuracy and compliance with accounting standards, regulations, and internal policies. The role requires a strategic thinker with strong analytical skills, a keen eye for detail, and the ability to lead a finance team effectively.</p>\\n<p></p><p><br /></p><b>Key Responsibilities</b><ul><li>1. Financial Reporting:</li></ul><div>○ Prepare and review monthly, quarterly, and annual financial statements and reports.</div><div>○ Ensure timely and accurate submission of financial reports to stakeholders.</div><div>○ Develop and implement financial reporting processes and controls.</div><ul><li>2. Budgeting and Forecasting:</li></ul><div>○ Lead the annual budgeting process and financial forecasting.</div><div>○ Monitor budget performance and financial variances, providing recommendations for corrective actions.</div><div>○ Collaborate with department heads to develop and manage departmental budgets.</div><ul><li>3. Accounting and Compliance:</li></ul><div>○ Oversee daily accounting operations, including accounts payable, accounts receivable, and general ledger</div><div>maintenance.</div><div>○ Ensure compliance with accounting standards (e.g., GAAP, IFRS) and regulatory requirements.</div><div>○ Coordinate and manage internal and external audits.</div><ul><li>4. Financial Analysis:</li></ul><div>○ Conduct financial analysis to support decision-making and strategic planning.</div><div>○ Analyze financial performance metrics and identify trends, risks, and opportunities.</div><div>○ Provide insights and recommendations based on financial data and analysis.</div><ul><li>5. Cash Flow Management:</li></ul><div>○ Manage company cash flow, ensuring adequate liquidity for operational needs.</div><div>○ Oversee cash management, banking relationships, and investment strategies.</div><ul><li>6. Team Leadership:</li></ul><div>○ Lead, mentor, and develop the finance team, ensuring a high level of performance and engagement.</div><div>○ Foster a collaborative and efficient work environment.</div><div>○ Set clear objectives and performance goals for team members.</div><ul><li>7. Process Improvement:</li></ul><div>○ Identify and implement process improvements to enhance efficiency and accuracy in financial operations.</div><div>○ Develop and maintain financial policies, procedures, and internal controls.</div><ul><li>8. Strategic Support:</li></ul><div>○ Provide financial insights and recommendations to support strategic business decisions.</div><div>○ Collaborate with senior management to drive financial strategy and business growth.</div><p><br /></p><b>Qualifications</b><ul><li> Bachelor’s degree in Accounting, Finance, or a related field; Master’s degree or CPA preferred.</li><li>1 year of experience in similar roles</li><li> Strong understanding of accounting principles, financial analysis, and reporting.</li><li> Experience with financial software and ERP systems (e.g., SAP, Oracle, QuickBooks).</li><li> Excellent analytical, problem-solving, and organizational skills.</li><li> Strong leadership and team management abilities.</li><li> Exceptional communication and interpersonal skills.</li><li> High level of integrity and professionalism.</li></ul><p><br /></p><p></p>\\n<div>$9 - $10 an hour</div>\\n<p><b><span style=\"font-size: 16px;\">About 1840 &amp; Company</span></b></p><p><br /></p><p><span style=\"font-size: 16px;\">1840 &amp; Company is a global leader in Business Process Outsourcing (BPO) and remote talent solutions, dedicated to propelling businesses forward through our comprehensive suite of services. We specialize in connecting companies with world-class freelance professionals and delivering top-tier outsourcing services, across over 150 countries worldwide.</span></p><p><br /></p><p><span style=\"font-size: 16px;\">Our mission is to empower growth for forward-thinking businesses, seamlessly bridging any skill or resource gaps with our expertly vetted talent pool. We firmly believe in fostering an environment where exceptional individuals can achieve an optimal work-life balance, working remotely from any location, while maximizing their professional growth and earning potential.</span></p><p><br /></p><p><span style=\"font-size: 16px;\">We are headquartered in Overland Park, KS, USA with service delivery facilities in the Philippines, India, Ukraine, South Africa and Argentina. We invite you to explore the opportunities we offer and consider joining our exclusive network of global freelance talent. Visit&nbsp;</span><a href=\"http://www.1840andco.com/\"><span style=\"font-size: 16px;\">www.1840andco.com</span></a><span style=\"font-size: 16px;\">&nbsp;to learn more about us. To explore a wealth of career opportunities and find a role that suits your unique skills and aspirations, please visit our dedicated jobs portal at&nbsp;</span><a href=\"https://jobs.1840andco.com/\"><span style=\"font-size: 16px;\">jobs.1840andco.com</span></a><span style=\"font-size: 16px;\">.</span></p>\n",
      "URL: https://remoteOK.com/remote-jobs/remote-financial-controller-1840-amp-company-1058100\n"
     ]
    }
   ],
   "source": [
    "print(USER_PROMPT_PREFIX)"
   ]
  },
  {
   "cell_type": "code",
   "execution_count": null,
   "id": "85f73105-cc31-4f74-98b7-f210f8778f9b",
   "metadata": {},
   "outputs": [],
   "source": [
    "USER_PROMPT_PREFIX"
   ]
  },
  {
   "cell_type": "code",
   "execution_count": 17,
   "id": "d2351b20-534f-4955-86a2-960234ca950f",
   "metadata": {},
   "outputs": [],
   "source": [
    "def get_recommendations():\n",
    "    completion = openai.beta.chat.completions.parse(\n",
    "        model=\"gpt-4o-mini\",\n",
    "        messages=[\n",
    "            {\"role\": \"system\", \"content\": SYSTEM_PROMPT},\n",
    "            {\"role\": \"user\", \"content\": USER_PROMPT_PREFIX}\n",
    "      ],\n",
    "        response_format=JobSelection\n",
    "    )\n",
    "    result = completion.choices[0].message.parsed\n",
    "    return result"
   ]
  },
  {
   "cell_type": "code",
   "execution_count": 18,
   "id": "4ebabf9a-c440-44f3-ae51-fc34b20113a6",
   "metadata": {},
   "outputs": [
    {
     "name": "stderr",
     "output_type": "stream",
     "text": [
      "INFO:httpx:HTTP Request: POST https://api.openai.com/v1/chat/completions \"HTTP/1.1 200 OK\"\n"
     ]
    }
   ],
   "source": [
    "result = get_recommendations()"
   ]
  },
  {
   "cell_type": "code",
   "execution_count": 21,
   "id": "0b9af67f-5394-4aba-93aa-d4c3c225d1fd",
   "metadata": {},
   "outputs": [
    {
     "data": {
      "text/plain": [
       "JobSelection(jobs=[Job(description='The Financial Controller will be responsible for overseeing and managing the company’s financial operations, ensuring accuracy and compliance with accounting standards, regulations, and internal policies. The role requires a strategic thinker with strong analytical skills, a keen eye for detail, and the ability to lead a finance team effectively.', job_title='Financial Controller', company='1840 & Company', location='Quezon City, Metro Manila', responsibilities='Prepare and review monthly, quarterly, and annual financial statements, ensuring timely and accurate submissions to stakeholders. Lead the annual budgeting process, monitor performance, and collaborate with department heads on budget management.', skills=['Financial Reporting', 'Budgeting and Forecasting', 'Leadership', 'Accounting Principles'], url='https://remoteOK.com/remote-jobs/remote-financial-controller-1840-amp-company-1058100', prep_questions=['How do you ensure compliance with accounting standards in your financial reporting?', 'Can you describe your experience with financial forecasting and budgeting?', 'What strategies have you implemented to improve financial operations in your previous roles?']), Job(description=\"As a Senior QA Engineer, you will assume a leadership role in our dynamic team, guiding the assurance of quality and reliability across groundbreaking projects. This role transcends traditional testing—it's about championing quality excellence and spearheading initiatives that ensure the delivery of impeccable products with a lasting impact.\", job_title='Senior Quality Assurance Automation Engineer', company='3Pillar', location='Mexico', responsibilities='Lead the development and maintenance of automated test scripts using the latest tools and frameworks. Collaborate with development teams to execute comprehensive end-to-end testing and ensure continuous integration of automated tests into our development lifecycle.', skills=['Automated Testing', 'API Testing', 'Test Automation Tools', 'CI/CD'], url='https://remoteOK.com/remote-jobs/remote-senior-quality-assurance-automation-engineer-3pillar-1058555', prep_questions=['What experience do you have with automation tools like Cypress?', 'How do you approach writing test scripts for complex applications?', 'Can you provide an example of a time when you improved testing efficiency in your previous work?']), Job(description='We are actively seeking talented remote Accounts Receivable (AR) /Accounts Payable (AP) Specialist to join our team in Argentina. The role involves processing a high volume of invoices accurately and managing vendor communications.', job_title='Accounts Receivable and Payable Specialist', company='1840 & Company', location='Buenos Aires, Buenos Aires', responsibilities='Review and process a high volume of invoices, prepare payment runs and communicate with vendors regarding payment inquiries. Reconcile accounts payable transactions and assist with month-end close processes.', skills=['Invoice Processing', 'Payment Management', 'Reconciliation', 'Accounting Software'], url='https://remoteOK.com/remote-jobs/remote-ar-and-ap-specialist-1840-amp-company-1058117', prep_questions=['What strategies do you use to ensure timely payment of invoices?', \"Can you give an example of how you've resolved payment discrepancies?\", 'How do you handle communication with vendors regarding sensitive payment information?']), Job(description='As an Operations Data Support Specialist, you will play a critical role in maintaining data integrity, managing customer inventory, and supporting day-to-day operations within the Restaurant365 software platform.', job_title='Operations Data Support Specialist', company='Restaurant365', location='Remote', responsibilities='Assist in maintaining the accuracy and integrity of customer inventory and recipe records while performing routine data entry and updates. Collaborate with other departments for cross-platform data alignment and assist in managing support tickets related to data maintenance.', skills=['Data Management', 'Inventory Software', 'Microsoft Office', 'Customer Support'], url='https://remoteOK.com/remote-jobs/remote-operations-data-support-specialist-restaurant365-1058409', prep_questions=['How do you ensure high data accuracy during data entry tasks?', 'Can you describe your experience with inventory management software?', 'What steps would you take to resolve a data discrepancy?']), Job(description='The Partner Solutions Architect will have the opportunity to work with a wide variety of partners on structured engagements to provide a trusted technical bridge during implementation and beyond.', job_title='Partner Solutions Architect', company='JumpCloud', location='Remote', responsibilities='Gain a deep understanding of partner environments and provide technical guidance for complex architectural conversations. Communicate regularly with partners about their planned expansion and work hands-on in partner environments to execute migration tasks.', skills=['Technical Consulting', 'SaaS Implementation', 'Customer Engagement', 'Project Management'], url='https://remoteOK.com/remote-jobs/remote-partner-solutions-architect-india-jumpcloud-1058101', prep_questions=['What experience do you have in working with partners to implement SaaS solutions?', 'Can you explain a time when you navigated a complex project with a partner?', 'How do you ensure partners are satisfied with their implementation experience?'])])"
      ]
     },
     "execution_count": 21,
     "metadata": {},
     "output_type": "execute_result"
    }
   ],
   "source": [
    "result"
   ]
  },
  {
   "cell_type": "code",
   "execution_count": 19,
   "id": "4e121061-25a1-489b-91d8-1bd64e0cbd97",
   "metadata": {},
   "outputs": [
    {
     "name": "stdout",
     "output_type": "stream",
     "text": [
      "jobs=[Job(description='The Financial Controller will be responsible for overseeing and managing the company’s financial operations, ensuring accuracy and compliance with accounting standards, regulations, and internal policies. The role requires a strategic thinker with strong analytical skills, a keen eye for detail, and the ability to lead a finance team effectively.', job_title='Financial Controller', company='1840 & Company', location='Quezon City, Metro Manila', responsibilities='Prepare and review monthly, quarterly, and annual financial statements, ensuring timely and accurate submissions to stakeholders. Lead the annual budgeting process, monitor performance, and collaborate with department heads on budget management.', skills=['Financial Reporting', 'Budgeting and Forecasting', 'Leadership', 'Accounting Principles'], url='https://remoteOK.com/remote-jobs/remote-financial-controller-1840-amp-company-1058100', prep_questions=['How do you ensure compliance with accounting standards in your financial reporting?', 'Can you describe your experience with financial forecasting and budgeting?', 'What strategies have you implemented to improve financial operations in your previous roles?']), Job(description=\"As a Senior QA Engineer, you will assume a leadership role in our dynamic team, guiding the assurance of quality and reliability across groundbreaking projects. This role transcends traditional testing—it's about championing quality excellence and spearheading initiatives that ensure the delivery of impeccable products with a lasting impact.\", job_title='Senior Quality Assurance Automation Engineer', company='3Pillar', location='Mexico', responsibilities='Lead the development and maintenance of automated test scripts using the latest tools and frameworks. Collaborate with development teams to execute comprehensive end-to-end testing and ensure continuous integration of automated tests into our development lifecycle.', skills=['Automated Testing', 'API Testing', 'Test Automation Tools', 'CI/CD'], url='https://remoteOK.com/remote-jobs/remote-senior-quality-assurance-automation-engineer-3pillar-1058555', prep_questions=['What experience do you have with automation tools like Cypress?', 'How do you approach writing test scripts for complex applications?', 'Can you provide an example of a time when you improved testing efficiency in your previous work?']), Job(description='We are actively seeking talented remote Accounts Receivable (AR) /Accounts Payable (AP) Specialist to join our team in Argentina. The role involves processing a high volume of invoices accurately and managing vendor communications.', job_title='Accounts Receivable and Payable Specialist', company='1840 & Company', location='Buenos Aires, Buenos Aires', responsibilities='Review and process a high volume of invoices, prepare payment runs and communicate with vendors regarding payment inquiries. Reconcile accounts payable transactions and assist with month-end close processes.', skills=['Invoice Processing', 'Payment Management', 'Reconciliation', 'Accounting Software'], url='https://remoteOK.com/remote-jobs/remote-ar-and-ap-specialist-1840-amp-company-1058117', prep_questions=['What strategies do you use to ensure timely payment of invoices?', \"Can you give an example of how you've resolved payment discrepancies?\", 'How do you handle communication with vendors regarding sensitive payment information?']), Job(description='As an Operations Data Support Specialist, you will play a critical role in maintaining data integrity, managing customer inventory, and supporting day-to-day operations within the Restaurant365 software platform.', job_title='Operations Data Support Specialist', company='Restaurant365', location='Remote', responsibilities='Assist in maintaining the accuracy and integrity of customer inventory and recipe records while performing routine data entry and updates. Collaborate with other departments for cross-platform data alignment and assist in managing support tickets related to data maintenance.', skills=['Data Management', 'Inventory Software', 'Microsoft Office', 'Customer Support'], url='https://remoteOK.com/remote-jobs/remote-operations-data-support-specialist-restaurant365-1058409', prep_questions=['How do you ensure high data accuracy during data entry tasks?', 'Can you describe your experience with inventory management software?', 'What steps would you take to resolve a data discrepancy?']), Job(description='The Partner Solutions Architect will have the opportunity to work with a wide variety of partners on structured engagements to provide a trusted technical bridge during implementation and beyond.', job_title='Partner Solutions Architect', company='JumpCloud', location='Remote', responsibilities='Gain a deep understanding of partner environments and provide technical guidance for complex architectural conversations. Communicate regularly with partners about their planned expansion and work hands-on in partner environments to execute migration tasks.', skills=['Technical Consulting', 'SaaS Implementation', 'Customer Engagement', 'Project Management'], url='https://remoteOK.com/remote-jobs/remote-partner-solutions-architect-india-jumpcloud-1058101', prep_questions=['What experience do you have in working with partners to implement SaaS solutions?', 'Can you explain a time when you navigated a complex project with a partner?', 'How do you ensure partners are satisfied with their implementation experience?'])]\n"
     ]
    }
   ],
   "source": [
    "print(result)"
   ]
  },
  {
   "cell_type": "code",
   "execution_count": 22,
   "id": "2c328372-b70d-4469-92db-163c4437a2e1",
   "metadata": {},
   "outputs": [
    {
     "data": {
      "text/plain": [
       "Job(description='The Financial Controller will be responsible for overseeing and managing the company’s financial operations, ensuring accuracy and compliance with accounting standards, regulations, and internal policies. The role requires a strategic thinker with strong analytical skills, a keen eye for detail, and the ability to lead a finance team effectively.', job_title='Financial Controller', company='1840 & Company', location='Quezon City, Metro Manila', responsibilities='Prepare and review monthly, quarterly, and annual financial statements, ensuring timely and accurate submissions to stakeholders. Lead the annual budgeting process, monitor performance, and collaborate with department heads on budget management.', skills=['Financial Reporting', 'Budgeting and Forecasting', 'Leadership', 'Accounting Principles'], url='https://remoteOK.com/remote-jobs/remote-financial-controller-1840-amp-company-1058100', prep_questions=['How do you ensure compliance with accounting standards in your financial reporting?', 'Can you describe your experience with financial forecasting and budgeting?', 'What strategies have you implemented to improve financial operations in your previous roles?'])"
      ]
     },
     "execution_count": 22,
     "metadata": {},
     "output_type": "execute_result"
    }
   ],
   "source": [
    "result.jobs[0]"
   ]
  },
  {
   "cell_type": "code",
   "execution_count": 3,
   "id": "c92a74bd-57f1-4c13-851a-cc0d9bf8a72d",
   "metadata": {},
   "outputs": [],
   "source": [
    "from agents.scanner import ScannerAgent"
   ]
  },
  {
   "cell_type": "code",
   "execution_count": 4,
   "id": "71fac44a-b8ea-4cd2-9a10-ef787252d965",
   "metadata": {},
   "outputs": [
    {
     "name": "stderr",
     "output_type": "stream",
     "text": [
      "INFO:root:\u001b[40m\u001b[36m[Job Scanner Agent] Job Scanner Agent is initializing\u001b[0m\n",
      "INFO:root:\u001b[40m\u001b[36m[Job Scanner Agent] Job Scanner Agent is ready\u001b[0m\n",
      "INFO:root:\u001b[40m\u001b[36m[Job Scanner Agent] Job Scanner Agent is about to fetch job descriptions\u001b[0m\n",
      "ERROR:agents.jobs:Error parsing job page: 'NoneType' object has no attribute 'get_text'\n",
      "ERROR:agents.jobs:Error parsing job page: 'NoneType' object has no attribute 'get_text'\n",
      "ERROR:agents.jobs:Error parsing job page: 'NoneType' object has no attribute 'get_text'\n",
      "ERROR:agents.jobs:Error parsing job page: 'NoneType' object has no attribute 'get_text'\n",
      "ERROR:agents.jobs:Error parsing job page: 'NoneType' object has no attribute 'get_text'\n",
      "ERROR:agents.jobs:Error parsing job page: 'NoneType' object has no attribute 'get_text'\n",
      "ERROR:agents.jobs:Error parsing job page: 'NoneType' object has no attribute 'get_text'\n",
      "ERROR:agents.jobs:Error parsing job page: 'NoneType' object has no attribute 'get_text'\n",
      "ERROR:agents.jobs:Error parsing job page: 'NoneType' object has no attribute 'get_text'\n",
      "ERROR:agents.jobs:Error parsing job page: 'NoneType' object has no attribute 'get_text'\n",
      "ERROR:agents.jobs:Error parsing job page: 'NoneType' object has no attribute 'get_text'\n",
      "ERROR:agents.jobs:Error parsing job page: 'NoneType' object has no attribute 'get_text'\n",
      "ERROR:agents.jobs:Error parsing job page: 'NoneType' object has no attribute 'get_text'\n",
      "ERROR:agents.jobs:Error parsing job page: 'NoneType' object has no attribute 'get_text'\n",
      "ERROR:agents.jobs:Error parsing job page: 'NoneType' object has no attribute 'get_text'\n",
      "ERROR:agents.jobs:Error parsing job page: 'NoneType' object has no attribute 'get_text'\n",
      "ERROR:agents.jobs:Error parsing job page: 'NoneType' object has no attribute 'get_text'\n",
      "ERROR:agents.jobs:Error parsing job page: 'NoneType' object has no attribute 'get_text'\n",
      "ERROR:agents.jobs:Error parsing job page: 'NoneType' object has no attribute 'get_text'\n",
      "ERROR:agents.jobs:Error parsing job page: 'NoneType' object has no attribute 'get_text'\n",
      "INFO:root:\u001b[40m\u001b[36m[Job Scanner Agent] Job Scanner Agent received 20 new jobs not already processed\u001b[0m\n",
      "INFO:root:\u001b[40m\u001b[36m[Job Scanner Agent] Job Scanner Agent is calling OpenAI for job selection\u001b[0m\n",
      "INFO:httpx:HTTP Request: POST https://api.openai.com/v1/chat/completions \"HTTP/1.1 200 OK\"\n",
      "INFO:root:\u001b[40m\u001b[36m[Job Scanner Agent] Job Scanner Agent received 5 selected jobs from OpenAI\u001b[0m\n"
     ]
    },
    {
     "data": {
      "text/plain": [
       "JobSelection(jobs=[Job(description='As a Senior Software Engineer (Backend) at Sanity.io, you will be responsible for developing new features and improving the scalability of our content operating system. This includes designing scalable backend architecture, collaborating with cross-functional teams to implement innovative solutions, and conducting code reviews to enhance code quality.', job_title='Senior Software Engineer', company='Sanity', location='Remote', responsibilities='You will architect and maintain the backend services supporting our platforms, ensuring high performance, responsiveness, and reliability. Additionally, you will troubleshoot and optimize performance-related issues while mentoring junior engineers in best coding practices.', skills=['Node.js', 'Microservices', 'Cloud architecture', 'RESTful APIs'], url='https://remoteOK.com/remote-jobs/remote-senior-software-engineer-sanity-1058699', prep_questions=['What techniques do you use to ensure the maintainability of backend services?', \"Can you describe a complex microservices architecture you've implemented?\", 'How do you approach performance tuning in backend systems?']), Job(description='As an Associate Medical Director in Utilization Management at Cohere Health, you will review clinical information to assess the appropriateness of medical services and provide evidence-based recommendations to improve patient outcomes. This involves providing timely clinical determinations, effective communication with healthcare providers, and supporting the development of clinical decision guidelines.', job_title='Associate Medical Director Utilization Management', company='Cohere Health', location='Boston, Massachusetts, United States', responsibilities='You will facilitate peer-to-peer discussions with treating providers regarding clinical decisions, ensuring that all communications are accurately documented. Furthermore, you will drive operational improvements and work on projects that enhance clinical expertise related to utilization management.', skills=['Internal Medicine', 'Clinical decision-making', 'Evidence-based guidelines', 'Healthcare regulations'], url='https://remoteOK.com/remote-jobs/remote-associate-medical-director-utilization-management-cohere-health-1058688', prep_questions=['How do you adjust clinical guidelines based on new research?', 'Can you provide an example of a challenging peer-to-peer discussion?', 'What strategies help you maintain effective communications with cross-functional teams?']), Job(description='As a Junior Delivery Engineer at MasterBorn, you will be responsible for overseeing the delivery of software products to retail clients, focusing on configuration and project management. Your tasks will include translating client requirements into tech specifications, as well as collaborating closely with development teams to resolve issues throughout the project lifecycle.', job_title='Junior Delivery Engineer', company='MasterBorn', location='Remote', responsibilities='You will lead client interactions to clarify complex requirements and provide ongoing support post-implementation. Additionally, you will be tasked with ingesting client data into our data models and generating documentation that supports continuous improvements in product delivery.', skills=['SQL', 'ETL processes', 'Project management', 'Data analysis'], url='https://remoteOK.com/remote-jobs/remote-junior-delivery-engineer-masterborn-1058679', prep_questions=['Describe your experience with SQL and how you use it in project management.', 'What methods do you employ to ensure clarity in client communications?', 'Can you share a challenging project you managed and how you approached it?']), Job(description='The Investment Analyst at IFT focuses on conducting market analysis and investment opportunity evaluations across various asset classes, including crypto and venture capital. You will be responsible for developing financial models, creating investment proposals, and supporting trading execution for approved strategies.', job_title='Investment Analyst', company='IFT', location='Amsterdam, North Holland, Netherlands', responsibilities='You will compile and present market and investment analysis to the investment committee, ensuring decisions are informed by comprehensive research and data-driven insights. Additionally, maintaining and documenting all investment activities will be crucial for strategic planning.', skills=['Financial modeling', 'Market research', 'Crypto investment', 'Risk management'], url='https://remoteOK.com/remote-jobs/remote-investment-analyst-ift-1058670', prep_questions=['What financial modeling techniques do you find most useful?', 'How do you keep up-to-date with market trends affecting your investment decisions?', 'Describe a time when you identified a high-potential investment opportunity.']), Job(description='As a Senior Quality Assurance Automation Engineer, you will lead the implementation of automated testing frameworks to ensure software quality. Your role involves reviewing and strategizing testing processes, collaborating with development teams to enhance CI/CD practices, and mentoring junior QA engineers.', job_title='Senior Quality Assurance Automation Engineer', company='3Pillar', location='Mexico', responsibilities='You will develop advanced automated test scripts, conduct performance and load testing, and integrate these scripts within the development pipeline to ensure seamless delivery of high-quality software products. Additionally, your role will require strong collaboration across teams to drive quality initiatives.', skills=['Test automation', 'API testing', 'Cypress', 'Continuous integration'], url='https://remoteOK.com/remote-jobs/remote-senior-quality-assurance-automation-engineer-3pillar-1058555', prep_questions=['Can you walk me through your process for developing automated tests?', 'What challenges have you faced with automated testing, and how did you overcome them?', 'How do you approach collaboration with development teams to improve software quality?'])])"
      ]
     },
     "execution_count": 4,
     "metadata": {},
     "output_type": "execute_result"
    }
   ],
   "source": [
    "agent=ScannerAgent()\n",
    "result=agent.scan()\n",
    "result"
   ]
  },
  {
   "cell_type": "code",
   "execution_count": 29,
   "id": "eb746c73-d94b-40a7-8c26-daf69933c96c",
   "metadata": {},
   "outputs": [
    {
     "name": "stderr",
     "output_type": "stream",
     "text": [
      "INFO:chromadb.telemetry.product.posthog:Anonymized telemetry enabled. See                     https://docs.trychroma.com/telemetry for more information.\n"
     ]
    }
   ],
   "source": [
    "import chromadb\n",
    "DB = \"jobs_vectorstore\"\n",
    "client = chromadb.PersistentClient(path=DB)\n",
    "collection = client.get_or_create_collection('Job_desc')"
   ]
  },
  {
   "cell_type": "code",
   "execution_count": 31,
   "id": "7e5fa5ea-ec40-4097-b114-1567618c187c",
   "metadata": {},
   "outputs": [],
   "source": [
    "from agents.frontier_agent import FrontierAgent"
   ]
  },
  {
   "cell_type": "code",
   "execution_count": 32,
   "id": "9ec04110-683a-4ee9-9d7d-62e1820a2dc3",
   "metadata": {},
   "outputs": [
    {
     "name": "stdout",
     "output_type": "stream",
     "text": [
      "[LOG]: Initializing Frontier Agent for job descriptions\n"
     ]
    },
    {
     "name": "stderr",
     "output_type": "stream",
     "text": [
      "INFO:sentence_transformers.SentenceTransformer:Use pytorch device_name: cpu\n",
      "INFO:sentence_transformers.SentenceTransformer:Load pretrained SentenceTransformer: sentence-transformers/all-MiniLM-L6-v2\n"
     ]
    },
    {
     "name": "stdout",
     "output_type": "stream",
     "text": [
      "[LOG]: Frontier Agent is ready\n"
     ]
    }
   ],
   "source": [
    "agent = FrontierAgent(collection)"
   ]
  },
  {
   "cell_type": "code",
   "execution_count": 33,
   "id": "94ebf19f-5ccf-4f5b-a13a-1c212fcd4f15",
   "metadata": {},
   "outputs": [
    {
     "name": "stdout",
     "output_type": "stream",
     "text": [
      "[LOG]: Performing similarity search in Chroma datastore\n"
     ]
    },
    {
     "data": {
      "application/vnd.jupyter.widget-view+json": {
       "model_id": "0da9166ccbe64a1bb6f9e8a75b1a7c0e",
       "version_major": 2,
       "version_minor": 0
      },
      "text/plain": [
       "Batches:   0%|          | 0/1 [00:00<?, ?it/s]"
      ]
     },
     "metadata": {},
     "output_type": "display_data"
    },
    {
     "name": "stdout",
     "output_type": "stream",
     "text": [
      "[LOG]: Found similar job descriptions\n"
     ]
    },
    {
     "name": "stderr",
     "output_type": "stream",
     "text": [
      "INFO:httpx:HTTP Request: POST https://api.openai.com/v1/chat/completions \"HTTP/1.1 200 OK\"\n"
     ]
    },
    {
     "name": "stdout",
     "output_type": "stream",
     "text": [
      "[LOG]: Received response from OpenAI: ```json\n",
      "{\n",
      "  \"job_title\": \"iOS Developer\",\n",
      "  \"responsibilities\": [\n",
      "    \"Collaborate with cross-functi...\n",
      "[LOG]: Error parsing JSON: Expecting value: line 1 column 1 (char 0)\n"
     ]
    }
   ],
   "source": [
    "res=agent.prepare('''We're looking for an individual who loves challenges and taking on problems with imaginative solutions. Also works well in collaborative teams, and can produce high-quality software under tight constraints. You should be a self-starter, self-motivated, able to work independently, collaborate with multiple multi-functional teams across the globe (US, Singapore, India, and Europe) and work on solutions that have a larger impact on Apple business. You will interact with many other group’s / internal teams at Apple to lead and deliver best-in-class products in an exciting, constantly evolving environment.''')"
   ]
  },
  {
   "cell_type": "code",
   "execution_count": 34,
   "id": "ff5b3c22-0395-4021-b75e-9002d142e9d3",
   "metadata": {},
   "outputs": [
    {
     "data": {
      "text/plain": [
       "{'job_title': 'iOS Developer',\n",
       " 'responsibilities': ['Collaborate with cross-functional teams to define, design, and ship new features.',\n",
       "  'Design and build applications for the iOS platform using Swift/Objective-C.',\n",
       "  'Continuously evaluate and implement new technologies to maximize development efficiency.',\n",
       "  'Unit-test code for robustness, including edge cases and usability.',\n",
       "  'Identify and correct bottlenecks and fix bugs to maintain performance and quality.'],\n",
       " 'required_skills': ['Proficient in Swift and Objective-C with a good knowledge of their ecosystems.',\n",
       "  'Solid understanding of object-oriented programming principles.',\n",
       "  \"Experience with Cocoa APIs and Apple's frameworks (Core Data, Core Animation, etc.).\",\n",
       "  'Knowledge of multi-threading, memory management, and performance optimization.',\n",
       "  'Familiarity with RESTful APIs and integrating with back-end services.',\n",
       "  'Good sense of UI design and user-oriented focus, following Apple’s design principles.',\n",
       "  'Proficient understanding of version control tools (Git) and continuous integration.'],\n",
       " 'preparation_strategy': {'1': 'Study Swift and Objective-C programming languages and their ecosystems.',\n",
       "  '2': 'Practice building small iOS applications to familiarize yourself with Cocoa APIs.',\n",
       "  '3': \"Learn about Apple's design principles and guidelines for UI/UX.\",\n",
       "  '4': 'Understand multi-threading and memory management concepts intimately.',\n",
       "  '5': 'Read about RESTful APIs and practice integrating them in sample applications.',\n",
       "  '6': 'Familiarize yourself with automated testing platforms and write unit tests.'},\n",
       " 'preparation_material': {'1': {'title': 'Apple Developer Documentation',\n",
       "   'link': 'https://developer.apple.com/documentation/'},\n",
       "  '2': {'title': 'Swift Programming Language Guide',\n",
       "   'link': 'https://docs.swift.org/swift-book/'},\n",
       "  '3': {'title': 'Stanford University iOS Development Course (YouTube)',\n",
       "   'link': 'https://www.youtube.com/playlist?list=PLpGHT1n8a8MofVrQ2RZ7c3D82vPox9fW-'},\n",
       "  '4': {'title': 'Ray Wenderlich iOS Tutorials',\n",
       "   'link': 'https://www.raywenderlich.com/ios'},\n",
       "  '5': {'title': 'iOS Design Guidelines by Apple',\n",
       "   'link': 'https://developer.apple.com/design/human-interface-guidelines/'}},\n",
       " 'interview_questions': [{'question': 'What is the difference between strong, weak, and unowned references in Swift?',\n",
       "   'answer': 'Strong references create strong ownership of an object; weak references do not prevent the referenced object from being deallocated, thus avoiding retain cycles; unowned references assume the referenced object will always be present when accessed after it is initialized.'},\n",
       "  {'question': 'How do you manage memory in iOS applications?',\n",
       "   'answer': 'Memory management in iOS applications is primarily handled using Automatic Reference Counting (ARC). Developers also use techniques such as weak references to avoid retain cycles in closures, and optimize memory performance by profiling and managing object lifecycles effectively.'},\n",
       "  {'question': 'What is a RESTful API and how would you consume one in an iOS application?',\n",
       "   'answer': 'A RESTful API is an architectural style that uses HTTP requests to access and manipulate data. To consume a RESTful API in an iOS app, you typically use URLSession to initiate network requests, handle JSON parsing, and update the UI based on the fetched data asynchronously.'},\n",
       "  {'question': 'Can you explain the Model-View-Controller (MVC) design pattern?',\n",
       "   'answer': 'MVC is a design pattern that separates an application into three interconnected components: Model, which holds the data; View, which presents the data to the user; and Controller, which manages the interaction between the Model and View, ensuring that changes in presentation reflect data states.'},\n",
       "  {'question': 'How do you handle asynchronous programming in Swift?',\n",
       "   'answer': 'In Swift, asynchronous programming can be handled using closures, completion handlers, or the async/await syntax introduced in Swift 5.5, which allows you to write asynchronous code that looks synchronous, simplifying the handling of asynchronous tasks.'}]}"
      ]
     },
     "execution_count": 34,
     "metadata": {},
     "output_type": "execute_result"
    }
   ],
   "source": [
    "res"
   ]
  },
  {
   "cell_type": "code",
   "execution_count": 35,
   "id": "7306ac05-a1c4-429e-b6dc-bb1ad23047bd",
   "metadata": {},
   "outputs": [
    {
     "ename": "TypeError",
     "evalue": "the JSON object must be str, bytes or bytearray, not dict",
     "output_type": "error",
     "traceback": [
      "\u001b[1;31m---------------------------------------------------------------------------\u001b[0m",
      "\u001b[1;31mTypeError\u001b[0m                                 Traceback (most recent call last)",
      "Cell \u001b[1;32mIn[35], line 8\u001b[0m\n\u001b[0;32m      3\u001b[0m \u001b[38;5;66;03m# Invalid JSON string with unexpected structure\u001b[39;00m\n\u001b[0;32m      6\u001b[0m \u001b[38;5;28;01mtry\u001b[39;00m:\n\u001b[0;32m      7\u001b[0m     \u001b[38;5;66;03m# Parsing invalid JSON string\u001b[39;00m\n\u001b[1;32m----> 8\u001b[0m     data \u001b[38;5;241m=\u001b[39m \u001b[43mjson\u001b[49m\u001b[38;5;241;43m.\u001b[39;49m\u001b[43mloads\u001b[49m\u001b[43m(\u001b[49m\u001b[43mres\u001b[49m\u001b[43m)\u001b[49m\n\u001b[0;32m      9\u001b[0m     \u001b[38;5;28mprint\u001b[39m(data)\n\u001b[0;32m     10\u001b[0m \u001b[38;5;28;01mexcept\u001b[39;00m json\u001b[38;5;241m.\u001b[39mJSONDecodeError \u001b[38;5;28;01mas\u001b[39;00m e:\n",
      "File \u001b[1;32mC:\\Anaconda3\\envs\\llms\\Lib\\json\\__init__.py:339\u001b[0m, in \u001b[0;36mloads\u001b[1;34m(s, cls, object_hook, parse_float, parse_int, parse_constant, object_pairs_hook, **kw)\u001b[0m\n\u001b[0;32m    337\u001b[0m \u001b[38;5;28;01melse\u001b[39;00m:\n\u001b[0;32m    338\u001b[0m     \u001b[38;5;28;01mif\u001b[39;00m \u001b[38;5;129;01mnot\u001b[39;00m \u001b[38;5;28misinstance\u001b[39m(s, (\u001b[38;5;28mbytes\u001b[39m, \u001b[38;5;28mbytearray\u001b[39m)):\n\u001b[1;32m--> 339\u001b[0m         \u001b[38;5;28;01mraise\u001b[39;00m \u001b[38;5;167;01mTypeError\u001b[39;00m(\u001b[38;5;124mf\u001b[39m\u001b[38;5;124m'\u001b[39m\u001b[38;5;124mthe JSON object must be str, bytes or bytearray, \u001b[39m\u001b[38;5;124m'\u001b[39m\n\u001b[0;32m    340\u001b[0m                         \u001b[38;5;124mf\u001b[39m\u001b[38;5;124m'\u001b[39m\u001b[38;5;124mnot \u001b[39m\u001b[38;5;132;01m{\u001b[39;00ms\u001b[38;5;241m.\u001b[39m\u001b[38;5;18m__class__\u001b[39m\u001b[38;5;241m.\u001b[39m\u001b[38;5;18m__name__\u001b[39m\u001b[38;5;132;01m}\u001b[39;00m\u001b[38;5;124m'\u001b[39m)\n\u001b[0;32m    341\u001b[0m     s \u001b[38;5;241m=\u001b[39m s\u001b[38;5;241m.\u001b[39mdecode(detect_encoding(s), \u001b[38;5;124m'\u001b[39m\u001b[38;5;124msurrogatepass\u001b[39m\u001b[38;5;124m'\u001b[39m)\n\u001b[0;32m    343\u001b[0m \u001b[38;5;28;01mif\u001b[39;00m (\u001b[38;5;28mcls\u001b[39m \u001b[38;5;129;01mis\u001b[39;00m \u001b[38;5;28;01mNone\u001b[39;00m \u001b[38;5;129;01mand\u001b[39;00m object_hook \u001b[38;5;129;01mis\u001b[39;00m \u001b[38;5;28;01mNone\u001b[39;00m \u001b[38;5;129;01mand\u001b[39;00m\n\u001b[0;32m    344\u001b[0m         parse_int \u001b[38;5;129;01mis\u001b[39;00m \u001b[38;5;28;01mNone\u001b[39;00m \u001b[38;5;129;01mand\u001b[39;00m parse_float \u001b[38;5;129;01mis\u001b[39;00m \u001b[38;5;28;01mNone\u001b[39;00m \u001b[38;5;129;01mand\u001b[39;00m\n\u001b[0;32m    345\u001b[0m         parse_constant \u001b[38;5;129;01mis\u001b[39;00m \u001b[38;5;28;01mNone\u001b[39;00m \u001b[38;5;129;01mand\u001b[39;00m object_pairs_hook \u001b[38;5;129;01mis\u001b[39;00m \u001b[38;5;28;01mNone\u001b[39;00m \u001b[38;5;129;01mand\u001b[39;00m \u001b[38;5;129;01mnot\u001b[39;00m kw):\n",
      "\u001b[1;31mTypeError\u001b[0m: the JSON object must be str, bytes or bytearray, not dict"
     ]
    }
   ],
   "source": [
    "import json\n",
    "\n",
    "# Invalid JSON string with unexpected structure\n",
    "\n",
    "\n",
    "try:\n",
    "    # Parsing invalid JSON string\n",
    "    data = json.loads(res)\n",
    "    print(data)\n",
    "except json.JSONDecodeError as e:\n",
    "    print(\"Error parsing JSON:\", e)"
   ]
  },
  {
   "cell_type": "code",
   "execution_count": null,
   "id": "cba0103e-1d6d-4b16-816e-acfaf16d13e5",
   "metadata": {},
   "outputs": [],
   "source": []
  }
 ],
 "metadata": {
  "kernelspec": {
   "display_name": "Python 3 (ipykernel)",
   "language": "python",
   "name": "python3"
  },
  "language_info": {
   "codemirror_mode": {
    "name": "ipython",
    "version": 3
   },
   "file_extension": ".py",
   "mimetype": "text/x-python",
   "name": "python",
   "nbconvert_exporter": "python",
   "pygments_lexer": "ipython3",
   "version": "3.11.10"
  }
 },
 "nbformat": 4,
 "nbformat_minor": 5
}
