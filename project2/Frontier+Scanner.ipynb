{
 "cells": [
  {
   "cell_type": "code",
   "execution_count": 1,
   "id": "6d224390-e416-457d-baf4-c6c1b3d08009",
   "metadata": {},
   "outputs": [],
   "source": [
    "\n",
    "import os\n",
    "import json\n",
    "from dotenv import load_dotenv\n",
    "from openai import OpenAI\n",
    "from agents.jobs import ScrapedJobDescription, JobSelection"
   ]
  },
  {
   "cell_type": "code",
   "execution_count": 2,
   "id": "e318d18d-74b9-4ac3-84dc-19546204bdcf",
   "metadata": {},
   "outputs": [],
   "source": [
    "load_dotenv()\n",
    "os.environ['OPENAI_API_KEY'] = os.getenv('OPENAI_API_KEY', 'your-key-if-not-using-env')\n",
    "MODEL = 'gpt-4o-mini'\n",
    "openai = OpenAI()"
   ]
  },
  {
   "cell_type": "code",
   "execution_count": 7,
   "id": "02dfcc2b-2cf2-4246-b441-b52ab9b63522",
   "metadata": {},
   "outputs": [],
   "source": [
    "from agents.scanner import ScannerAgent"
   ]
  },
  {
   "cell_type": "code",
   "execution_count": 8,
   "id": "2f530d83-3af5-4cdd-b3ac-5c898e910e1d",
   "metadata": {},
   "outputs": [
    {
     "name": "stderr",
     "output_type": "stream",
     "text": [
      "INFO:root:\u001b[40m\u001b[36m[Job Scanner Agent] Job Scanner Agent is initializing\u001b[0m\n",
      "INFO:root:\u001b[40m\u001b[36m[Job Scanner Agent] Job Scanner Agent is ready\u001b[0m\n",
      "INFO:root:\u001b[40m\u001b[36m[Job Scanner Agent] Job Scanner Agent is about to fetch job descriptions\u001b[0m\n",
      "ERROR:agents.jobs:Error parsing job page: 'NoneType' object has no attribute 'get_text'\n",
      "ERROR:agents.jobs:Error parsing job page: 'NoneType' object has no attribute 'get_text'\n",
      "ERROR:agents.jobs:Error parsing job page: 'NoneType' object has no attribute 'get_text'\n",
      "ERROR:agents.jobs:Error parsing job page: 'NoneType' object has no attribute 'get_text'\n",
      "ERROR:agents.jobs:Error parsing job page: 'NoneType' object has no attribute 'get_text'\n",
      "ERROR:agents.jobs:Error parsing job page: 'NoneType' object has no attribute 'get_text'\n",
      "ERROR:agents.jobs:Error parsing job page: 'NoneType' object has no attribute 'get_text'\n",
      "ERROR:agents.jobs:Error parsing job page: 'NoneType' object has no attribute 'get_text'\n",
      "ERROR:agents.jobs:Error parsing job page: 'NoneType' object has no attribute 'get_text'\n",
      "ERROR:agents.jobs:Error parsing job page: 'NoneType' object has no attribute 'get_text'\n",
      "ERROR:agents.jobs:Error parsing job page: 'NoneType' object has no attribute 'get_text'\n",
      "ERROR:agents.jobs:Error parsing job page: 'NoneType' object has no attribute 'get_text'\n",
      "ERROR:agents.jobs:Error parsing job page: 'NoneType' object has no attribute 'get_text'\n",
      "ERROR:agents.jobs:Error parsing job page: 'NoneType' object has no attribute 'get_text'\n",
      "ERROR:agents.jobs:Error parsing job page: 'NoneType' object has no attribute 'get_text'\n",
      "ERROR:agents.jobs:Error parsing job page: 'NoneType' object has no attribute 'get_text'\n",
      "ERROR:agents.jobs:Error parsing job page: 'NoneType' object has no attribute 'get_text'\n",
      "ERROR:agents.jobs:Error parsing job page: 'NoneType' object has no attribute 'get_text'\n",
      "ERROR:agents.jobs:Error parsing job page: 'NoneType' object has no attribute 'get_text'\n",
      "ERROR:agents.jobs:Error parsing job page: 'NoneType' object has no attribute 'get_text'\n",
      "INFO:root:\u001b[40m\u001b[36m[Job Scanner Agent] Job Scanner Agent received 20 new jobs not already processed\u001b[0m\n",
      "INFO:root:\u001b[40m\u001b[36m[Job Scanner Agent] Job Scanner Agent is calling OpenAI for job selection\u001b[0m\n",
      "INFO:httpx:HTTP Request: POST https://api.openai.com/v1/chat/completions \"HTTP/1.1 200 OK\"\n",
      "INFO:root:\u001b[40m\u001b[36m[Job Scanner Agent] Job Scanner Agent received 5 selected jobs from OpenAI\u001b[0m\n"
     ]
    },
    {
     "data": {
      "text/plain": [
       "JobSelection(jobs=[Job(description='Looking for a skilled software developer to create a system for information management. Responsibilities include backend development, database management, and frontend development to ensure the system functions efficiently.', job_title='Information Management System Software Development', company='Unknown Company', location='Unknown Location', responsibilities='Develop a backend system for data management, ensure database integrity, and create a user-friendly frontend. Collaborate with stakeholders to finalize system features and conduct testing to ensure all functionalities meet user requirements.', skills=['Backend Development', 'Database Management'], url='https://www.freelancer.com/projects/frontend-development/Information-Management-System-Software.html', prep_questions=['What experience do you have with database management systems?', 'Can you explain your approach to frontend development?', 'How do you ensure the integrity and security of data in your applications?']), Job(description='Seeking a professional to implement a drip contact campaign using Apollo.ai and HubSpot CRM. The role requires strategizing, setting up workflows, and optimizing email deliverability while targeting specific audience segments.', job_title='Drip Campaign Implementation with Apollo & HubSpot', company='Unknown Company', location='Unknown Location', responsibilities='Design and implement effective drip campaigns that engage leads through tailored email communications. Analyze campaign performance to identify improvements and ensure compliance with best practices in email marketing.', skills=['Email Marketing', 'HubSpot CRM'], url='https://www.freelancer.com/projects/email-marketing/Drip-Campaign-Implementation-with-Apollo.html', prep_questions=['How do you measure the success of an email drip campaign?', 'What strategies do you use for audience segmentation?', \"Can you provide an example of a successful campaign you've implemented?\"]), Job(description='Looking for a seasoned Product Manager to analyze user needs and requirements for software development projects. This role includes defining product visions, managing development processes, and communicating with stakeholders.', job_title='IT Product Manager & Requirements Engineer', company='Unknown Company', location='Unknown Location', responsibilities='Lead requirement gathering sessions, prioritize product features based on user needs, and work closely with development teams to deliver on-time project outcomes. Conduct market research to inform product direction and improve competitiveness.', skills=['Project Management', 'Technical Writing'], url='https://www.freelancer.com/projects/project-management/Product-Manager-Requirements-Engineer-38848081.html', prep_questions=['What methodologies do you use for requirements gathering?', 'How do you prioritize features in product development?', 'Can you share an experience where you had to handle competing stakeholder interests?']), Job(description='Seeking a professional web developer to create a lead-generating commercial website aimed at businesses. Responsibilities include designing website architecture, integrating SEO best practices, and ensuring user experiences that convert visitors into leads.', job_title='Lead-Generating Commercial Website for B2B', company='Unknown Company', location='Unknown Location', responsibilities='Develop a commercial website that effectively attracts, engages, and converts visitors. Collaborate with marketing teams to align website content with brand strategy and optimize user pathways for lead generation.', skills=['HTML', 'SEO'], url='https://www.freelancer.com/projects/website-design/Lead-Generating-Commercial-Website-for.html', prep_questions=['What factors do you consider when designing a lead-generating website?', 'How do you incorporate SEO strategies during development?', 'Can you describe a project where your website design significantly improved lead conversion rates?']), Job(description='Join our team as a Senior QA Engineer responsible for automated testing and ensuring product quality across software development. The position demands collaboration with cross-functional teams to optimize testing processes.', job_title='Senior Quality Assurance Automation Engineer', company='3Pillar', location='Mexico', responsibilities='Lead the creation and management of automated test scripts while driving test strategy within CI/CD pipelines. Mentor junior QA engineers and contribute to the development of performance and security testing initiatives.', skills=['Automated Testing', 'API Testing'], url='https://remoteOK.com/remote-jobs/remote-senior-quality-assurance-automation-engineer-3pillar-1058555', prep_questions=['What testing tools and frameworks have you used extensively?', 'Can you describe your experience with CI/CD in relation to testing?', 'How do you ensure the scalability and reliability of your testing suite?'])])"
      ]
     },
     "execution_count": 8,
     "metadata": {},
     "output_type": "execute_result"
    }
   ],
   "source": [
    "agent=ScannerAgent()\n",
    "result=agent.scan()\n",
    "result"
   ]
  },
  {
   "cell_type": "code",
   "execution_count": 1,
   "id": "ad0a0543-2091-4e6a-8ad9-cacc33b93068",
   "metadata": {},
   "outputs": [],
   "source": [
    "import os\n",
    "import re\n",
    "import math\n",
    "import json\n",
    "from tqdm import tqdm\n",
    "import random\n",
    "from dotenv import load_dotenv\n",
    "from huggingface_hub import login\n",
    "import matplotlib.pyplot as plt\n",
    "import numpy as np\n",
    "import pickle\n",
    "from openai import OpenAI\n",
    "from sentence_transformers import SentenceTransformer\n",
    "from datasets import load_dataset\n",
    "import chromadb\n",
    "#from items import Item\n",
    "#from testing import Tester\n",
    "\n",
    "load_dotenv()\n",
    "os.environ['OPENAI_API_KEY'] = os.getenv('OPENAI_API_KEY', 'your-key-if-not-using-env')\n",
    "os.environ['HF_TOKEN'] = os.getenv('HF_TOKEN', 'your-key-if-not-using-env')"
   ]
  },
  {
   "cell_type": "code",
   "execution_count": 2,
   "id": "bd01cbfd-1b00-4182-8634-1189dedb0b06",
   "metadata": {},
   "outputs": [],
   "source": [
    "openai = OpenAI()"
   ]
  },
  {
   "cell_type": "code",
   "execution_count": 3,
   "id": "bdad9068-5146-4231-8fca-9ca12a1cd5d1",
   "metadata": {},
   "outputs": [],
   "source": [
    "DB = \"jobs_vectorstore\""
   ]
  },
  {
   "cell_type": "code",
   "execution_count": 4,
   "id": "78594c17-eea7-4955-a6dc-5ff6459b875a",
   "metadata": {},
   "outputs": [],
   "source": [
    "client = chromadb.PersistentClient(path=DB)\n",
    "collection = client.get_or_create_collection('Job_desc')"
   ]
  },
  {
   "cell_type": "code",
   "execution_count": 5,
   "id": "7491dbdc-fe6a-4d04-9abb-4f38389e451e",
   "metadata": {},
   "outputs": [],
   "source": [
    "from agents.frontier_agent import FrontierAgent"
   ]
  },
  {
   "cell_type": "code",
   "execution_count": 6,
   "id": "2fc40b0d-902f-4bf3-bf6c-62594a46418d",
   "metadata": {},
   "outputs": [
    {
     "name": "stdout",
     "output_type": "stream",
     "text": [
      "[LOG]: Initializing Frontier Agent for job descriptions\n",
      "[LOG]: Frontier Agent is ready\n"
     ]
    }
   ],
   "source": [
    "agent = FrontierAgent(collection)"
   ]
  },
  {
   "cell_type": "code",
   "execution_count": null,
   "id": "0bf45acd-2ca0-493a-bf87-8df6e39c2bca",
   "metadata": {},
   "outputs": [],
   "source": []
  },
  {
   "cell_type": "code",
   "execution_count": 7,
   "id": "2fbe8de1-8fc2-4525-8825-25cd3de5a62f",
   "metadata": {},
   "outputs": [
    {
     "name": "stdout",
     "output_type": "stream",
     "text": [
      "[LOG]: Performing similarity search in Chroma datastore\n",
      "[LOG]: Found similar job descriptions\n",
      "[LOG]: Received response from OpenAI: ```json\n",
      "{\n",
      "    \"job_title\": \"iOS Developer\",\n",
      "    \"responsibilities\": [\n",
      "        \"Design and build adva...\n"
     ]
    }
   ],
   "source": [
    "res=agent.prepare(\"We're looking for an individual who loves challenges and taking on problems with imaginative solutions. Also works well in collaborative teams, and can produce high-quality software under tight constraints. You should be a self-starter, self-motivated, able to work independently, collaborate with multiple multi-functional teams across the globe (US, Singapore, India, and Europe) and work on solutions that have a larger impact on Apple business. You will interact with many other group’s / internal teams at Apple to lead and deliver best-in-class products in an exciting, constantly evolving environment.\")"
   ]
  },
  {
   "cell_type": "code",
   "execution_count": 8,
   "id": "8ebe4370-f633-4a94-8ceb-8b05f8755b2a",
   "metadata": {
    "scrolled": true
   },
   "outputs": [
    {
     "name": "stdout",
     "output_type": "stream",
     "text": [
      "<class 'dict'>\n"
     ]
    }
   ],
   "source": [
    "print(type(res))"
   ]
  },
  {
   "cell_type": "code",
   "execution_count": 9,
   "id": "c9df0622-80d2-47f7-9437-3d94e4839b42",
   "metadata": {},
   "outputs": [
    {
     "data": {
      "text/plain": [
       "{'job_title': 'iOS Developer',\n",
       " 'responsibilities': ['Design and build advanced applications for the iOS platform.',\n",
       "  'Collaborate with cross-functional teams to define, design, and ship new features.',\n",
       "  'Unit-test code for robustness, including edge cases, usability, and general reliability.',\n",
       "  'Work with outside data sources and APIs.',\n",
       "  'Discover, evaluate, and implement new technologies to maximize development efficiency.'],\n",
       " 'required_skills': ['Proficient in Swift and Objective-C programming languages.',\n",
       "  'Solid understanding of object-oriented programming.',\n",
       "  'Experience with Cocoa APIs on OS X.',\n",
       "  'Working knowledge of RESTful APIs.',\n",
       "  'Familiarity with version control systems like Git.',\n",
       "  'Understanding of the iOS application lifecycle and architecture patterns like MVC or MVVM.',\n",
       "  'Good sense of UI design with a user-oriented focus.'],\n",
       " 'preparation_plan': {'1': 'Brush up on Swift and Objective-C programming languages and advanced features.',\n",
       "  '2': 'Deepen your understanding of Cocoa Frameworks and the iOS application lifecycle.',\n",
       "  '3': 'Familiarize yourself with RESTful APIs and working with JSON data.',\n",
       "  '4': 'Practice coding problems focused on algorithms, data structures, and solving edge case scenarios.',\n",
       "  '5': \"Review UI design principles and Apple's Human Interface Guidelines.\"},\n",
       " 'preparation_material': [{'title': \"Apple's Human Interface Guidelines\",\n",
       "   'link': 'https://developer.apple.com/design/human-interface-guidelines/'},\n",
       "  {'title': 'Swift Programming Language - Apple Documentation',\n",
       "   'link': 'https://docs.swift.org/swift-book/'},\n",
       "  {'title': 'Cocoa Fundamentals Guide',\n",
       "   'link': 'https://developer.apple.com/library/archive/documentation/Cocoa/Conceptual/CocoaEncyclopedia/CocoaEncyclopedia.html'},\n",
       "  {'title': 'RESTful Web Services - An Introduction',\n",
       "   'link': 'https://www.restapitutorial.com/'},\n",
       "  {'title': 'Git - Version Control System',\n",
       "   'link': 'https://git-scm.com/doc'}],\n",
       " 'interview_questions': ['1. Can you explain the MVC architecture and how you apply it in your iOS development?',\n",
       "  \"2. Describe a challenging bug you've encountered in iOS development and how you resolved it.\",\n",
       "  '3. How do you ensure the quality and performance of the applications you design?'],\n",
       " 'answers': [{'question': 'Can you explain the MVC architecture and how you apply it in your iOS development?',\n",
       "   'answer': 'The MVC architecture divides an app into three interconnected components: the Model, which represents the data, the View, which is the UI, and the Controller, which acts as an intermediary managing the communication between the Model and the View. In my applications, I try to keep business logic separate from UI elements, ensuring reusable models for data manipulation while allowing the UI to be modified without affecting the core logic.'},\n",
       "  {'question': \"Describe a challenging bug you've encountered in iOS development and how you resolved it.\",\n",
       "   'answer': \"I once faced a memory leak issue that was causing an app to crash under heavy load. After profiling the app with Instruments, I discovered that circular references in delegate callbacks were retaining objects longer than necessary. I resolved the issue by implementing weak references where applicable, and my changes significantly optimized the app's performance.\"},\n",
       "  {'question': 'How do you ensure the quality and performance of the applications you design?',\n",
       "   'answer': 'I follow a rigorous unit testing regime, using XCTest for automated tests to cover critical features and edge cases. I also leverage code reviews to ensure quality and share best practices with my team. Additionally, I use tools like Instruments to monitor performance metrics and conduct stress testing to ensure the app can handle varying loads.'}]}"
      ]
     },
     "execution_count": 9,
     "metadata": {},
     "output_type": "execute_result"
    }
   ],
   "source": [
    "res"
   ]
  },
  {
   "cell_type": "code",
   "execution_count": 12,
   "id": "a8c00c52-7645-48a4-b5a3-f9d343a8d9e5",
   "metadata": {},
   "outputs": [
    {
     "name": "stdout",
     "output_type": "stream",
     "text": [
      "```json\n",
      "{\n",
      "    \"job_title\": \"iOS Developer\",\n",
      "    \"responsibilities\": [\n",
      "        \"Design and build advanced applications for the iOS platform.\",\n",
      "        \"Collaborate with cross-functional teams to define, design, and ship new features.\",\n",
      "        \"Unit-test code for robustness, including edge cases, usability, and general reliability.\",\n",
      "        \"Work with outside data sources and APIs.\",\n",
      "        \"Discover, evaluate, and implement new technologies to maximize development efficiency.\"\n",
      "    ],\n",
      "    \"required_skills\": [\n",
      "        \"Proficient in Swift and Objective-C programming languages.\",\n",
      "        \"Solid understanding of object-oriented programming.\",\n",
      "        \"Experience with Cocoa APIs on OS X.\",\n",
      "        \"Working knowledge of RESTful APIs.\",\n",
      "        \"Familiarity with version control systems like Git.\",\n",
      "        \"Understanding of the iOS application lifecycle and architecture.\"\n",
      "    ],\n",
      "    \"preparation_strategy\": [\n",
      "        \"Review and practice Swift and Objective-C programming.\",\n",
      "        \"Work on personal projects, focusing on app development for iOS.\",\n",
      "        \"Explore Apple’s developer documentation and best practices.\",\n",
      "        \"Participate in coding challenges related to iOS development.\",\n",
      "        \"Contribute to open-source projects or create a portfolio of apps.\"\n",
      "    ],\n",
      "    \"preparation_material\": [\n",
      "        {\n",
      "            \"title\": \"The Swift Programming Language\",\n",
      "            \"link\": \"https://docs.swift.org/swift-book/\"\n",
      "        },\n",
      "        {\n",
      "            \"title\": \"iOS Developer Documentation\",\n",
      "            \"link\": \"https://developer.apple.com/documentation/\"\n",
      "        },\n",
      "        {\n",
      "            \"title\": \"iOS Programming: The Big Nerd Ranch Guide\",\n",
      "            \"link\": \"https://www.bignerdranch.com/books/ios-programming-the-big-nerd-ranch-guide-6th-edition/\"\n",
      "        },\n",
      "        {\n",
      "            \"title\": \"Ray Wenderlich iOS Tutorials\",\n",
      "            \"link\": \"https://www.raywenderlich.com/ios/paths\"\n",
      "        },\n",
      "        {\n",
      "            \"title\": \"Clean Code: A Handbook of Agile Software Craftsmanship\",\n",
      "            \"link\": \"https://www.oreilly.com/library/view/clean-code-a/9780136083239/\"\n",
      "        }\n",
      "    ],\n",
      "    \"interview_questions\": [\n",
      "        \"What are the main differences between Swift and Objective-C?\",\n",
      "        \"How do you handle memory management in iOS applications?\",\n",
      "        \"Can you explain the MVC architecture in iOS development?\"\n",
      "    ],\n",
      "    \"answers\": [\n",
      "        {\n",
      "            \"question\": \"What are the main differences between Swift and Objective-C?\",\n",
      "            \"answer\": \"Swift is a more modern programming language that offers a clearer syntax, safety features like optionals to handle nil values, and is designed for speed. Objective-C, being an older language, has a more verbose syntax and uses runtime messaging.\"\n",
      "        },\n",
      "        {\n",
      "            \"question\": \"How do you handle memory management in iOS applications?\",\n",
      "            \"answer\": \"In iOS, I use Automatic Reference Counting (ARC) which automatically handles memory management by keeping track of the strong and weak references to objects, thereby ensuring that memory is freed when no longer needed.\"\n",
      "        },\n",
      "        {\n",
      "            \"question\": \"Can you explain the MVC architecture in iOS development?\",\n",
      "            \"answer\": \"MVC, or Model-View-Controller, is a software design pattern that separates an application into three main components: the Model (data), the View (UI), and the Controller (business logic). This separation helps in managing the complexity of applications and enhances testability.\"\n",
      "        }\n",
      "    ]\n",
      "}\n",
      "```\n"
     ]
    }
   ],
   "source": [
    "json_cleaned = res.strip('\\'\"')\n",
    "\n",
    "# Print the cleaned JSON\n",
    "print(json_cleaned)"
   ]
  },
  {
   "cell_type": "code",
   "execution_count": 16,
   "id": "ef5eb07e-d13b-4889-a327-070ff2c6f607",
   "metadata": {},
   "outputs": [
    {
     "ename": "JSONDecodeError",
     "evalue": "Expecting value: line 1 column 1 (char 0)",
     "output_type": "error",
     "traceback": [
      "\u001b[1;31m---------------------------------------------------------------------------\u001b[0m",
      "\u001b[1;31mJSONDecodeError\u001b[0m                           Traceback (most recent call last)",
      "Cell \u001b[1;32mIn[16], line 2\u001b[0m\n\u001b[0;32m      1\u001b[0m \u001b[38;5;28;01mimport\u001b[39;00m \u001b[38;5;21;01mjson\u001b[39;00m\n\u001b[1;32m----> 2\u001b[0m parsed_json\u001b[38;5;241m=\u001b[39m\u001b[43mjson\u001b[49m\u001b[38;5;241;43m.\u001b[39;49m\u001b[43mloads\u001b[49m\u001b[43m(\u001b[49m\u001b[43mres\u001b[49m\u001b[43m)\u001b[49m\n\u001b[0;32m      3\u001b[0m preety_json\u001b[38;5;241m=\u001b[39mjson\u001b[38;5;241m.\u001b[39mdumps(parsed_json,indent\u001b[38;5;241m=\u001b[39m\u001b[38;5;241m4\u001b[39m)\n\u001b[0;32m      4\u001b[0m \u001b[38;5;28mprint\u001b[39m(pretty_json)\n",
      "File \u001b[1;32mC:\\Anaconda3\\envs\\llms\\Lib\\json\\__init__.py:346\u001b[0m, in \u001b[0;36mloads\u001b[1;34m(s, cls, object_hook, parse_float, parse_int, parse_constant, object_pairs_hook, **kw)\u001b[0m\n\u001b[0;32m    341\u001b[0m     s \u001b[38;5;241m=\u001b[39m s\u001b[38;5;241m.\u001b[39mdecode(detect_encoding(s), \u001b[38;5;124m'\u001b[39m\u001b[38;5;124msurrogatepass\u001b[39m\u001b[38;5;124m'\u001b[39m)\n\u001b[0;32m    343\u001b[0m \u001b[38;5;28;01mif\u001b[39;00m (\u001b[38;5;28mcls\u001b[39m \u001b[38;5;129;01mis\u001b[39;00m \u001b[38;5;28;01mNone\u001b[39;00m \u001b[38;5;129;01mand\u001b[39;00m object_hook \u001b[38;5;129;01mis\u001b[39;00m \u001b[38;5;28;01mNone\u001b[39;00m \u001b[38;5;129;01mand\u001b[39;00m\n\u001b[0;32m    344\u001b[0m         parse_int \u001b[38;5;129;01mis\u001b[39;00m \u001b[38;5;28;01mNone\u001b[39;00m \u001b[38;5;129;01mand\u001b[39;00m parse_float \u001b[38;5;129;01mis\u001b[39;00m \u001b[38;5;28;01mNone\u001b[39;00m \u001b[38;5;129;01mand\u001b[39;00m\n\u001b[0;32m    345\u001b[0m         parse_constant \u001b[38;5;129;01mis\u001b[39;00m \u001b[38;5;28;01mNone\u001b[39;00m \u001b[38;5;129;01mand\u001b[39;00m object_pairs_hook \u001b[38;5;129;01mis\u001b[39;00m \u001b[38;5;28;01mNone\u001b[39;00m \u001b[38;5;129;01mand\u001b[39;00m \u001b[38;5;129;01mnot\u001b[39;00m kw):\n\u001b[1;32m--> 346\u001b[0m     \u001b[38;5;28;01mreturn\u001b[39;00m \u001b[43m_default_decoder\u001b[49m\u001b[38;5;241;43m.\u001b[39;49m\u001b[43mdecode\u001b[49m\u001b[43m(\u001b[49m\u001b[43ms\u001b[49m\u001b[43m)\u001b[49m\n\u001b[0;32m    347\u001b[0m \u001b[38;5;28;01mif\u001b[39;00m \u001b[38;5;28mcls\u001b[39m \u001b[38;5;129;01mis\u001b[39;00m \u001b[38;5;28;01mNone\u001b[39;00m:\n\u001b[0;32m    348\u001b[0m     \u001b[38;5;28mcls\u001b[39m \u001b[38;5;241m=\u001b[39m JSONDecoder\n",
      "File \u001b[1;32mC:\\Anaconda3\\envs\\llms\\Lib\\json\\decoder.py:337\u001b[0m, in \u001b[0;36mJSONDecoder.decode\u001b[1;34m(self, s, _w)\u001b[0m\n\u001b[0;32m    332\u001b[0m \u001b[38;5;28;01mdef\u001b[39;00m \u001b[38;5;21mdecode\u001b[39m(\u001b[38;5;28mself\u001b[39m, s, _w\u001b[38;5;241m=\u001b[39mWHITESPACE\u001b[38;5;241m.\u001b[39mmatch):\n\u001b[0;32m    333\u001b[0m \u001b[38;5;250m    \u001b[39m\u001b[38;5;124;03m\"\"\"Return the Python representation of ``s`` (a ``str`` instance\u001b[39;00m\n\u001b[0;32m    334\u001b[0m \u001b[38;5;124;03m    containing a JSON document).\u001b[39;00m\n\u001b[0;32m    335\u001b[0m \n\u001b[0;32m    336\u001b[0m \u001b[38;5;124;03m    \"\"\"\u001b[39;00m\n\u001b[1;32m--> 337\u001b[0m     obj, end \u001b[38;5;241m=\u001b[39m \u001b[38;5;28;43mself\u001b[39;49m\u001b[38;5;241;43m.\u001b[39;49m\u001b[43mraw_decode\u001b[49m\u001b[43m(\u001b[49m\u001b[43ms\u001b[49m\u001b[43m,\u001b[49m\u001b[43m \u001b[49m\u001b[43midx\u001b[49m\u001b[38;5;241;43m=\u001b[39;49m\u001b[43m_w\u001b[49m\u001b[43m(\u001b[49m\u001b[43ms\u001b[49m\u001b[43m,\u001b[49m\u001b[43m \u001b[49m\u001b[38;5;241;43m0\u001b[39;49m\u001b[43m)\u001b[49m\u001b[38;5;241;43m.\u001b[39;49m\u001b[43mend\u001b[49m\u001b[43m(\u001b[49m\u001b[43m)\u001b[49m\u001b[43m)\u001b[49m\n\u001b[0;32m    338\u001b[0m     end \u001b[38;5;241m=\u001b[39m _w(s, end)\u001b[38;5;241m.\u001b[39mend()\n\u001b[0;32m    339\u001b[0m     \u001b[38;5;28;01mif\u001b[39;00m end \u001b[38;5;241m!=\u001b[39m \u001b[38;5;28mlen\u001b[39m(s):\n",
      "File \u001b[1;32mC:\\Anaconda3\\envs\\llms\\Lib\\json\\decoder.py:355\u001b[0m, in \u001b[0;36mJSONDecoder.raw_decode\u001b[1;34m(self, s, idx)\u001b[0m\n\u001b[0;32m    353\u001b[0m     obj, end \u001b[38;5;241m=\u001b[39m \u001b[38;5;28mself\u001b[39m\u001b[38;5;241m.\u001b[39mscan_once(s, idx)\n\u001b[0;32m    354\u001b[0m \u001b[38;5;28;01mexcept\u001b[39;00m \u001b[38;5;167;01mStopIteration\u001b[39;00m \u001b[38;5;28;01mas\u001b[39;00m err:\n\u001b[1;32m--> 355\u001b[0m     \u001b[38;5;28;01mraise\u001b[39;00m JSONDecodeError(\u001b[38;5;124m\"\u001b[39m\u001b[38;5;124mExpecting value\u001b[39m\u001b[38;5;124m\"\u001b[39m, s, err\u001b[38;5;241m.\u001b[39mvalue) \u001b[38;5;28;01mfrom\u001b[39;00m \u001b[38;5;28;01mNone\u001b[39;00m\n\u001b[0;32m    356\u001b[0m \u001b[38;5;28;01mreturn\u001b[39;00m obj, end\n",
      "\u001b[1;31mJSONDecodeError\u001b[0m: Expecting value: line 1 column 1 (char 0)"
     ]
    }
   ],
   "source": [
    "import json\n",
    "parsed_json=json.loads(res)\n",
    "preety_json=json.dumps(parsed_json,indent=4)\n",
    "print(pretty_json)"
   ]
  },
  {
   "cell_type": "code",
   "execution_count": null,
   "id": "cebeb84c-2692-4cea-b8fb-8307094512e0",
   "metadata": {},
   "outputs": [],
   "source": []
  }
 ],
 "metadata": {
  "kernelspec": {
   "display_name": "Python 3 (ipykernel)",
   "language": "python",
   "name": "python3"
  },
  "language_info": {
   "codemirror_mode": {
    "name": "ipython",
    "version": 3
   },
   "file_extension": ".py",
   "mimetype": "text/x-python",
   "name": "python",
   "nbconvert_exporter": "python",
   "pygments_lexer": "ipython3",
   "version": "3.11.10"
  }
 },
 "nbformat": 4,
 "nbformat_minor": 5
}
