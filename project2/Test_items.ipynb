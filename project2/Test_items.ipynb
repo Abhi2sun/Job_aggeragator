{
 "cells": [
  {
   "cell_type": "code",
   "execution_count": 2,
   "id": "da5b19c2-b914-4693-907f-2ad1a04b2eba",
   "metadata": {},
   "outputs": [
    {
     "name": "stdout",
     "output_type": "stream",
     "text": [
      "Content Length: 203\n",
      "Token Count: 39\n",
      "Prompt set: \n",
      "    Analyze the following job description and extract:\n",
      "    1. Job Title\n",
      "    2. Responsibilities\n",
      "    3. Required Skills\n",
      "    4. Recommended Preparation Topics\n",
      "    5. Interview Questions (Technical and Behavioral)\n",
      "\n",
      "    Job Description:\n",
      "    We are seeking a Backend Developer with expertise in Python, Django, and REST APIs\n",
      "Must have experience with database optimization and API design\n",
      "Skills: Python, Django, REST APIs, Database Optimization\n",
      "\n",
      "    \n",
      "Include: True\n",
      "Prompt: \n",
      "    Analyze the following job description and extract:\n",
      "    1. Job Title\n",
      "    2. Responsibilities\n",
      "    3. Required Skills\n",
      "    4. Recommended Preparation Topics\n",
      "    5. Interview Questions (Technical and Behavioral)\n",
      "\n",
      "    Job Description:\n",
      "    We are seeking a Backend Developer with expertise in Python, Django, and REST APIs\n",
      "Must have experience with database optimization and API design\n",
      "Skills: Python, Django, REST APIs, Database Optimization\n",
      "\n",
      "    \n"
     ]
    }
   ],
   "source": [
    "import unittest\n",
    "import sys\n",
    "sys.path.append('project/items.py')  # Add the file's directory to Python's path\n",
    "from items import JobDescription\n",
    "\n",
    "data = {\n",
    "        \"job_title\": \"Backend Developer\",\n",
    "        \"description\": \"We are seeking a Backend Developer with expertise in Python, Django, and REST APIs.\",\n",
    "        \"requirements\": \"Must have experience with database optimization and API design.\",\n",
    "        \"skills\": [\"Python\", \"Django\", \"REST APIs\", \"Database Optimization\"]\n",
    "    }\n",
    "\n",
    "job = JobDescription(data)\n",
    "print(f\"Include: {job.include}\")\n",
    "print(f\"Prompt: {job.prompt}\")\n"
   ]
  },
  {
   "cell_type": "code",
   "execution_count": null,
   "id": "5d4c6578-ed68-4f9c-bfc9-9e6520f19e7b",
   "metadata": {},
   "outputs": [],
   "source": []
  }
 ],
 "metadata": {
  "kernelspec": {
   "display_name": "Python 3 (ipykernel)",
   "language": "python",
   "name": "python3"
  },
  "language_info": {
   "codemirror_mode": {
    "name": "ipython",
    "version": 3
   },
   "file_extension": ".py",
   "mimetype": "text/x-python",
   "name": "python",
   "nbconvert_exporter": "python",
   "pygments_lexer": "ipython3",
   "version": "3.11.10"
  }
 },
 "nbformat": 4,
 "nbformat_minor": 5
}
