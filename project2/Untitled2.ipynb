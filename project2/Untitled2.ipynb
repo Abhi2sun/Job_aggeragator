{
 "cells": [
  {
   "cell_type": "code",
   "execution_count": 1,
   "id": "6ebd9010-faed-4ee4-a1af-bb3afb067b95",
   "metadata": {},
   "outputs": [
    {
     "name": "stderr",
     "output_type": "stream",
     "text": [
      "INFO:datasets:PyTorch version 2.3.0 available.\n",
      "INFO:datasets:Duckdb version 1.1.3 available.\n"
     ]
    }
   ],
   "source": [
    "import gradio as gr\n",
    "from job_agent_framework import JobAgentFramework\n",
    "from agents.jobs import Job, JobSelection, InterviewPreparation"
   ]
  },
  {
   "cell_type": "code",
   "execution_count": 2,
   "id": "b999d0ce-105c-43d7-a276-8b09d4d7d3aa",
   "metadata": {
    "scrolled": true
   },
   "outputs": [
    {
     "name": "stdout",
     "output_type": "stream",
     "text": [
      "* Running on local URL:  http://127.0.0.1:7861\n"
     ]
    },
    {
     "name": "stderr",
     "output_type": "stream",
     "text": [
      "INFO:httpx:HTTP Request: GET http://127.0.0.1:7861/gradio_api/startup-events \"HTTP/1.1 200 OK\"\n",
      "INFO:httpx:HTTP Request: HEAD http://127.0.0.1:7861/ \"HTTP/1.1 200 OK\"\n"
     ]
    },
    {
     "name": "stdout",
     "output_type": "stream",
     "text": [
      "\n",
      "To create a public link, set `share=True` in `launch()`.\n"
     ]
    },
    {
     "name": "stderr",
     "output_type": "stream",
     "text": [
      "INFO:httpx:HTTP Request: GET https://api.gradio.app/pkg-version \"HTTP/1.1 200 OK\"\n"
     ]
    },
    {
     "data": {
      "text/html": [
       "<div><iframe src=\"http://127.0.0.1:7861/\" width=\"100%\" height=\"500\" allow=\"autoplay; camera; microphone; clipboard-read; clipboard-write;\" frameborder=\"0\" allowfullscreen></iframe></div>"
      ],
      "text/plain": [
       "<IPython.core.display.HTML object>"
      ]
     },
     "metadata": {},
     "output_type": "display_data"
    },
    {
     "data": {
      "text/plain": []
     },
     "execution_count": 2,
     "metadata": {},
     "output_type": "execute_result"
    }
   ],
   "source": [
    "with gr.Blocks(title=\"The Price is Right\", fill_width=True) as ui:\n",
    "\n",
    "    with gr.Row():\n",
    "        gr.Markdown('<div style=\"text-align: center;font-size:24px\">The Price is Right - Deal Hunting Agentic AI</div>')\n",
    "    with gr.Row():\n",
    "        gr.Markdown('<div style=\"text-align: center;font-size:14px\">Autonomous agent framework that finds online deals, collaborating with a proprietary fine-tuned LLM deployed on Modal, and a RAG pipeline with a frontier model and Chroma.</div>')\n",
    "        \n",
    "\n",
    "ui.launch(inbrowser=True)"
   ]
  },
  {
   "cell_type": "code",
   "execution_count": null,
   "id": "f6a59314-5a70-4982-89a9-25d4da8be301",
   "metadata": {},
   "outputs": [],
   "source": [
    "job: Job\n",
    "    job_title: str\n",
    "    skills_to_focus: List[str]\n",
    "    technical_questions: List[str]\n",
    "    technical_answers: List[str]\n",
    "    behavioral_questions: List[str]\n",
    "    behavioral_answers: List[str]\n",
    "    resources: List[str]  # URLs or books for further preparation\n"
   ]
  },
  {
   "cell_type": "code",
   "execution_count": 5,
   "id": "0b3e3cdd-e9db-437a-a618-f8702c98a1c8",
   "metadata": {},
   "outputs": [
    {
     "ename": "TypeError",
     "evalue": "Dataframe.__init__() got an unexpected keyword argument 'height'",
     "output_type": "error",
     "traceback": [
      "\u001b[1;31m---------------------------------------------------------------------------\u001b[0m",
      "\u001b[1;31mTypeError\u001b[0m                                 Traceback (most recent call last)",
      "Cell \u001b[1;32mIn[5], line 18\u001b[0m\n\u001b[0;32m     16\u001b[0m         gr\u001b[38;5;241m.\u001b[39mMarkdown(\u001b[38;5;124m'\u001b[39m\u001b[38;5;124m<div style=\u001b[39m\u001b[38;5;124m\"\u001b[39m\u001b[38;5;124mtext-align: center;font-size:14px\u001b[39m\u001b[38;5;124m\"\u001b[39m\u001b[38;5;124m>Deals surfaced so far:</div>\u001b[39m\u001b[38;5;124m'\u001b[39m)\n\u001b[0;32m     17\u001b[0m     \u001b[38;5;28;01mwith\u001b[39;00m gr\u001b[38;5;241m.\u001b[39mRow():\n\u001b[1;32m---> 18\u001b[0m         opportunities_dataframe \u001b[38;5;241m=\u001b[39m \u001b[43mgr\u001b[49m\u001b[38;5;241;43m.\u001b[39;49m\u001b[43mDataframe\u001b[49m\u001b[43m(\u001b[49m\n\u001b[0;32m     19\u001b[0m \u001b[43m            \u001b[49m\u001b[43mheaders\u001b[49m\u001b[38;5;241;43m=\u001b[39;49m\u001b[43m[\u001b[49m\u001b[38;5;124;43m\"\u001b[39;49m\u001b[38;5;124;43mDescription\u001b[39;49m\u001b[38;5;124;43m\"\u001b[39;49m\u001b[43m,\u001b[49m\u001b[43m \u001b[49m\u001b[38;5;124;43m\"\u001b[39;49m\u001b[38;5;124;43mcompany\u001b[39;49m\u001b[38;5;124;43m\"\u001b[39;49m\u001b[43m,\u001b[49m\u001b[43m \u001b[49m\u001b[38;5;124;43m\"\u001b[39;49m\u001b[38;5;124;43mskills_to_focus\u001b[39;49m\u001b[38;5;124;43m\"\u001b[39;49m\u001b[43m,\u001b[49m\u001b[43m \u001b[49m\u001b[38;5;124;43m\"\u001b[39;49m\u001b[38;5;124;43mtechnical_questions\u001b[39;49m\u001b[38;5;124;43m\"\u001b[39;49m\u001b[43m,\u001b[49m\u001b[43m \u001b[49m\u001b[38;5;124;43m\"\u001b[39;49m\u001b[38;5;124;43mtechnical_answers\u001b[39;49m\u001b[38;5;124;43m\"\u001b[39;49m\u001b[43m,\u001b[49m\u001b[38;5;124;43m\"\u001b[39;49m\u001b[38;5;124;43mresources\u001b[39;49m\u001b[38;5;124;43m\"\u001b[39;49m\u001b[43m,\u001b[49m\u001b[38;5;124;43m\"\u001b[39;49m\u001b[38;5;124;43mURL\u001b[39;49m\u001b[38;5;124;43m\"\u001b[39;49m\u001b[43m]\u001b[49m\u001b[43m,\u001b[49m\n\u001b[0;32m     20\u001b[0m \u001b[43m            \u001b[49m\u001b[43mwrap\u001b[49m\u001b[38;5;241;43m=\u001b[39;49m\u001b[38;5;28;43;01mTrue\u001b[39;49;00m\u001b[43m,\u001b[49m\n\u001b[0;32m     21\u001b[0m \u001b[43m            \u001b[49m\u001b[43mcolumn_widths\u001b[49m\u001b[38;5;241;43m=\u001b[39;49m\u001b[43m[\u001b[49m\u001b[38;5;241;43m4\u001b[39;49m\u001b[43m,\u001b[49m\u001b[43m \u001b[49m\u001b[38;5;241;43m1\u001b[39;49m\u001b[43m,\u001b[49m\u001b[43m \u001b[49m\u001b[38;5;241;43m3\u001b[39;49m\u001b[43m,\u001b[49m\u001b[43m \u001b[49m\u001b[38;5;241;43m4\u001b[39;49m\u001b[43m,\u001b[49m\u001b[43m \u001b[49m\u001b[38;5;241;43m4\u001b[39;49m\u001b[43m,\u001b[49m\u001b[43m \u001b[49m\u001b[38;5;241;43m3\u001b[39;49m\u001b[43m,\u001b[49m\u001b[43m \u001b[49m\u001b[38;5;241;43m2\u001b[39;49m\u001b[43m]\u001b[49m\u001b[43m,\u001b[49m\n\u001b[0;32m     22\u001b[0m \u001b[43m            \u001b[49m\u001b[43mrow_count\u001b[49m\u001b[38;5;241;43m=\u001b[39;49m\u001b[38;5;241;43m14\u001b[39;49m\u001b[43m,\u001b[49m\n\u001b[0;32m     23\u001b[0m \u001b[43m            \u001b[49m\u001b[43mcol_count\u001b[49m\u001b[38;5;241;43m=\u001b[39;49m\u001b[38;5;241;43m7\u001b[39;49m\u001b[43m,\u001b[49m\n\u001b[0;32m     24\u001b[0m \u001b[43m            \u001b[49m\u001b[43mheight\u001b[49m\u001b[38;5;241;43m=\u001b[39;49m\u001b[38;5;241;43m400\u001b[39;49m\u001b[43m,\u001b[49m\n\u001b[0;32m     25\u001b[0m \u001b[43m            \u001b[49m\n\u001b[0;32m     26\u001b[0m \u001b[43m        \u001b[49m\u001b[43m)\u001b[49m\n\u001b[0;32m     28\u001b[0m     ui\u001b[38;5;241m.\u001b[39mload(get_table, inputs\u001b[38;5;241m=\u001b[39m[opportunities], outputs\u001b[38;5;241m=\u001b[39m[opportunities_dataframe])\n\u001b[0;32m     30\u001b[0m ui\u001b[38;5;241m.\u001b[39mlaunch(inbrowser\u001b[38;5;241m=\u001b[39m\u001b[38;5;28;01mTrue\u001b[39;00m)\n",
      "File \u001b[1;32mC:\\Anaconda3\\envs\\llms\\Lib\\site-packages\\gradio\\component_meta.py:179\u001b[0m, in \u001b[0;36mupdateable.<locals>.wrapper\u001b[1;34m(*args, **kwargs)\u001b[0m\n\u001b[0;32m    177\u001b[0m     \u001b[38;5;28;01mreturn\u001b[39;00m \u001b[38;5;28;01mNone\u001b[39;00m\n\u001b[0;32m    178\u001b[0m \u001b[38;5;28;01melse\u001b[39;00m:\n\u001b[1;32m--> 179\u001b[0m     \u001b[38;5;28;01mreturn\u001b[39;00m \u001b[43mfn\u001b[49m\u001b[43m(\u001b[49m\u001b[38;5;28;43mself\u001b[39;49m\u001b[43m,\u001b[49m\u001b[43m \u001b[49m\u001b[38;5;241;43m*\u001b[39;49m\u001b[38;5;241;43m*\u001b[39;49m\u001b[43mkwargs\u001b[49m\u001b[43m)\u001b[49m\n",
      "\u001b[1;31mTypeError\u001b[0m: Dataframe.__init__() got an unexpected keyword argument 'height'"
     ]
    },
    {
     "name": "stderr",
     "output_type": "stream",
     "text": [
      "INFO:httpx:HTTP Request: GET https://api.gradio.app/pkg-version \"HTTP/1.1 200 OK\"\n"
     ]
    }
   ],
   "source": [
    "with gr.Blocks(title=\"Job Search\", fill_width=True) as ui:\n",
    "\n",
    "    initial_job = Job(description=\"Example description\",job_title='xyz',company='abc',location='mumbai',responsibilities='dum dum',skills=['python','java'],url=\"https://cnn.com\",\n",
    "                      prep_questions=['how to do','how are you'])\n",
    "    initial_prep = InterviewPreparation(job=initial_job, job_title='xyz',skills_to_focus=['python','java'],technical_questions=['how to do','how are you'],technical_answers=['lala','i know everything'],\n",
    "                                       behavioral_questions=['a','b'],behavioral_answers=['c','d'],resources=['x','y','z'])\n",
    "                                       \n",
    "    opportunities = gr.State([initial_prep])\n",
    "\n",
    "    def get_table(opps):\n",
    "        return [[opp.job.description, opp.job.company, opp.job.location, opp.skills_to_focus, opp.technical_questions,opp.technical_answers,opp.resources,opp.job.url] for opp in opps]\n",
    "\n",
    "    with gr.Row():\n",
    "        gr.Markdown('<div style=\"text-align: center;font-size:24px\">\"Job Search\" - Job Hunting Agentic AI</div>')\n",
    "    with gr.Row():\n",
    "        gr.Markdown('<div style=\"text-align: center;font-size:14px\">Jobss surfaced so far:</div>')\n",
    "    with gr.Row():\n",
    "        opportunities_dataframe = gr.Dataframe(\n",
    "            headers=[\"Description\", \"company\", \"skills_to_focus\", \"technical_questions\", \"technical_answers\",\"resources\",\"URL\"],\n",
    "            wrap=True,\n",
    "            column_widths=[4, 1, 3, 4, 4, 3, 2],\n",
    "            row_count=14,\n",
    "            col_count=7,\n",
    "            height=400,\n",
    "            \n",
    "        )\n",
    "\n",
    "    ui.load(get_table, inputs=[opportunities], outputs=[opportunities_dataframe])\n",
    "\n",
    "ui.launch(inbrowser=True)"
   ]
  },
  {
   "cell_type": "code",
   "execution_count": null,
   "id": "beccf70a-f9d6-4a5c-ae2a-d8e2b8e4741f",
   "metadata": {
    "scrolled": true
   },
   "outputs": [],
   "source": [
    "with gr.Blocks(title=\"Job Search\", fill_width=True) as ui:\n",
    "\n",
    "    # Example data\n",
    "    initial_job = Job(\n",
    "        description=\"Example description\",\n",
    "        job_title='xyz',\n",
    "        company='abc',\n",
    "        location='mumbai',\n",
    "        responsibilities='dum dum',\n",
    "        skills=['python', 'java'],\n",
    "        url=\"https://cnn.com\",\n",
    "        prep_questions=['how to do', 'how are you']\n",
    "    )\n",
    "    initial_prep = InterviewPreparation(\n",
    "        job=initial_job,\n",
    "        job_title='xyz',\n",
    "        skills_to_focus=['python', 'java'],\n",
    "        technical_questions=['how to do', 'how are you'],\n",
    "        technical_answers=['lala', 'i know everything'],\n",
    "        behavioral_questions=['a', 'b'],\n",
    "        behavioral_answers=['c', 'd'],\n",
    "        resources=['x', 'y', 'z']\n",
    "    )\n",
    "\n",
    "    # State for job opportunities\n",
    "    opportunities = gr.State([initial_prep])\n",
    "\n",
    "    # Function to generate the table\n",
    "    def get_table(opps):\n",
    "        return [\n",
    "            [\n",
    "                opp.job.description,\n",
    "                opp.job.company,\n",
    "                opp.job.location,\n",
    "                \", \".join(opp.skills_to_focus),\n",
    "                \", \".join(opp.technical_questions),\n",
    "                \", \".join(opp.technical_answers),\n",
    "                \", \".join(opp.resources),\n",
    "                opp.job.url\n",
    "            ] for opp in opps\n",
    "        ]\n",
    "\n",
    "    # UI layout\n",
    "    with gr.Row():\n",
    "        gr.Markdown('<div style=\"text-align: center;font-size:24px\">\"Job Search Insights\" - Agentic AI</div>')\n",
    "\n",
    "    with gr.Row():\n",
    "        gr.Markdown('<div style=\"text-align: center;font-size:14px\">Jobs surfaced so far:</div>')\n",
    "\n",
    "    with gr.Row():\n",
    "        opportunities_dataframe = gr.Dataframe(\n",
    "            headers=[\n",
    "                \"Description\", \"Company\", \"Location\", \"Skills to Focus\",\n",
    "                \"Technical Questions\", \"Technical Answers\", \"Resources\", \"URL\"\n",
    "            ],\n",
    "            datatype=[\"str\", \"str\", \"str\", \"str\", \"str\", \"str\", \"str\", \"str\"],\n",
    "            wrap=True,\n",
    "            column_widths=[4, 2, 2, 3, 4, 4, 3, 2],\n",
    "            row_count=14,\n",
    "        )\n",
    "\n",
    "    # Load function to populate table\n",
    "    ui.load(get_table, inputs=[opportunities], outputs=[opportunities_dataframe])\n",
    "\n",
    "ui.launch(inbrowser=True)\n"
   ]
  },
  {
   "cell_type": "code",
   "execution_count": 11,
   "id": "609383a0-37cb-4bc8-89df-90b58e4dcab9",
   "metadata": {},
   "outputs": [
    {
     "name": "stderr",
     "output_type": "stream",
     "text": [
      "INFO:root:\u001b[44m\u001b[37m[Job Agent Framework] Initializing PlanningAgent\u001b[0m\n"
     ]
    },
    {
     "name": "stdout",
     "output_type": "stream",
     "text": [
      "[2024-12-02 03:49:34 +0530] [Agents] [INFO] \u001b[44m\u001b[37m[Job Agent Framework] Initializing PlanningAgent\u001b[0m\n",
      "[2024-12-02 03:49:34 +0530] [Agents] [INFO] \u001b[44m\u001b[37m[Job Agent Framework] Initializing PlanningAgent\u001b[0m\n",
      "[2024-12-02 03:49:34 +0530] [Agents] [INFO] \u001b[44m\u001b[37m[Job Agent Framework] Initializing PlanningAgent\u001b[0m\n",
      "[2024-12-02 03:49:34 +0530] [Agents] [INFO] \u001b[44m\u001b[37m[Job Agent Framework] Initializing PlanningAgent\u001b[0m\n"
     ]
    },
    {
     "name": "stderr",
     "output_type": "stream",
     "text": [
      "INFO:root:\u001b[40m\u001b[32m[Planning Agent] Planning Agent is initializing\u001b[0m\n"
     ]
    },
    {
     "name": "stdout",
     "output_type": "stream",
     "text": [
      "[2024-12-02 03:49:34 +0530] [Agents] [INFO] \u001b[40m\u001b[32m[Planning Agent] Planning Agent is initializing\u001b[0m\n",
      "[2024-12-02 03:49:34 +0530] [Agents] [INFO] \u001b[40m\u001b[32m[Planning Agent] Planning Agent is initializing\u001b[0m\n",
      "[2024-12-02 03:49:34 +0530] [Agents] [INFO] \u001b[40m\u001b[32m[Planning Agent] Planning Agent is initializing\u001b[0m\n",
      "[2024-12-02 03:49:34 +0530] [Agents] [INFO] \u001b[40m\u001b[32m[Planning Agent] Planning Agent is initializing\u001b[0m\n"
     ]
    },
    {
     "name": "stderr",
     "output_type": "stream",
     "text": [
      "INFO:root:\u001b[40m\u001b[36m[Job Scanner Agent] Job Scanner Agent is initializing\u001b[0m\n"
     ]
    },
    {
     "name": "stdout",
     "output_type": "stream",
     "text": [
      "[2024-12-02 03:49:34 +0530] [Agents] [INFO] \u001b[40m\u001b[36m[Job Scanner Agent] Job Scanner Agent is initializing\u001b[0m\n",
      "[2024-12-02 03:49:34 +0530] [Agents] [INFO] \u001b[40m\u001b[36m[Job Scanner Agent] Job Scanner Agent is initializing\u001b[0m\n",
      "[2024-12-02 03:49:34 +0530] [Agents] [INFO] \u001b[40m\u001b[36m[Job Scanner Agent] Job Scanner Agent is initializing\u001b[0m\n",
      "[2024-12-02 03:49:34 +0530] [Agents] [INFO] \u001b[40m\u001b[36m[Job Scanner Agent] Job Scanner Agent is initializing\u001b[0m\n"
     ]
    },
    {
     "name": "stderr",
     "output_type": "stream",
     "text": [
      "INFO:root:\u001b[40m\u001b[36m[Job Scanner Agent] Job Scanner Agent is ready\u001b[0m\n"
     ]
    },
    {
     "name": "stdout",
     "output_type": "stream",
     "text": [
      "[2024-12-02 03:49:35 +0530] [Agents] [INFO] \u001b[40m\u001b[36m[Job Scanner Agent] Job Scanner Agent is ready\u001b[0m\n",
      "[2024-12-02 03:49:35 +0530] [Agents] [INFO] \u001b[40m\u001b[36m[Job Scanner Agent] Job Scanner Agent is ready\u001b[0m\n",
      "[2024-12-02 03:49:35 +0530] [Agents] [INFO] \u001b[40m\u001b[36m[Job Scanner Agent] Job Scanner Agent is ready\u001b[0m\n",
      "[2024-12-02 03:49:35 +0530] [Agents] [INFO] \u001b[40m\u001b[36m[Job Scanner Agent] Job Scanner Agent is ready\u001b[0m\n",
      "[LOG]: Initializing Frontier Agent for job descriptions\n"
     ]
    },
    {
     "name": "stderr",
     "output_type": "stream",
     "text": [
      "INFO:sentence_transformers.SentenceTransformer:Use pytorch device_name: cpu\n"
     ]
    },
    {
     "name": "stdout",
     "output_type": "stream",
     "text": [
      "[2024-12-02 03:49:36 +0530] [Agents] [INFO] Use pytorch device_name: cpu\n",
      "[2024-12-02 03:49:36 +0530] [Agents] [INFO] Use pytorch device_name: cpu\n",
      "[2024-12-02 03:49:36 +0530] [Agents] [INFO] Use pytorch device_name: cpu\n",
      "[2024-12-02 03:49:36 +0530] [Agents] [INFO] Use pytorch device_name: cpu\n"
     ]
    },
    {
     "name": "stderr",
     "output_type": "stream",
     "text": [
      "INFO:sentence_transformers.SentenceTransformer:Load pretrained SentenceTransformer: sentence-transformers/all-MiniLM-L6-v2\n"
     ]
    },
    {
     "name": "stdout",
     "output_type": "stream",
     "text": [
      "[2024-12-02 03:49:36 +0530] [Agents] [INFO] Load pretrained SentenceTransformer: sentence-transformers/all-MiniLM-L6-v2\n",
      "[2024-12-02 03:49:36 +0530] [Agents] [INFO] Load pretrained SentenceTransformer: sentence-transformers/all-MiniLM-L6-v2\n",
      "[2024-12-02 03:49:36 +0530] [Agents] [INFO] Load pretrained SentenceTransformer: sentence-transformers/all-MiniLM-L6-v2\n",
      "[2024-12-02 03:49:36 +0530] [Agents] [INFO] Load pretrained SentenceTransformer: sentence-transformers/all-MiniLM-L6-v2\n"
     ]
    },
    {
     "name": "stderr",
     "output_type": "stream",
     "text": [
      "INFO:root:\u001b[40m\u001b[32m[Planning Agent] Planning Agent is ready\u001b[0m\n"
     ]
    },
    {
     "name": "stdout",
     "output_type": "stream",
     "text": [
      "[LOG]: Frontier Agent is ready\n",
      "[LOG]: Messaging Agent is initializing\n",
      "[LOG]: Pushover notifications initialized\n",
      "[2024-12-02 03:49:40 +0530] [Agents] [INFO] \u001b[40m\u001b[32m[Planning Agent] Planning Agent is ready\u001b[0m\n",
      "[2024-12-02 03:49:40 +0530] [Agents] [INFO] \u001b[40m\u001b[32m[Planning Agent] Planning Agent is ready\u001b[0m\n",
      "[2024-12-02 03:49:40 +0530] [Agents] [INFO] \u001b[40m\u001b[32m[Planning Agent] Planning Agent is ready\u001b[0m\n",
      "[2024-12-02 03:49:40 +0530] [Agents] [INFO] \u001b[40m\u001b[32m[Planning Agent] Planning Agent is ready\u001b[0m\n"
     ]
    },
    {
     "name": "stderr",
     "output_type": "stream",
     "text": [
      "INFO:root:\u001b[44m\u001b[37m[Job Agent Framework] PlanningAgent is ready\u001b[0m\n"
     ]
    },
    {
     "name": "stdout",
     "output_type": "stream",
     "text": [
      "[2024-12-02 03:49:40 +0530] [Agents] [INFO] \u001b[44m\u001b[37m[Job Agent Framework] PlanningAgent is ready\u001b[0m\n",
      "[2024-12-02 03:49:40 +0530] [Agents] [INFO] \u001b[44m\u001b[37m[Job Agent Framework] PlanningAgent is ready\u001b[0m\n",
      "[2024-12-02 03:49:40 +0530] [Agents] [INFO] \u001b[44m\u001b[37m[Job Agent Framework] PlanningAgent is ready\u001b[0m\n",
      "[2024-12-02 03:49:40 +0530] [Agents] [INFO] \u001b[44m\u001b[37m[Job Agent Framework] PlanningAgent is ready\u001b[0m\n",
      "* Running on local URL:  http://127.0.0.1:7866\n"
     ]
    },
    {
     "name": "stderr",
     "output_type": "stream",
     "text": [
      "INFO:httpx:HTTP Request: GET http://127.0.0.1:7866/gradio_api/startup-events \"HTTP/1.1 200 OK\"\n"
     ]
    },
    {
     "name": "stdout",
     "output_type": "stream",
     "text": [
      "[2024-12-02 03:49:41 +0530] [Agents] [INFO] HTTP Request: GET http://127.0.0.1:7866/gradio_api/startup-events \"HTTP/1.1 200 OK\"\n",
      "[2024-12-02 03:49:41 +0530] [Agents] [INFO] HTTP Request: GET http://127.0.0.1:7866/gradio_api/startup-events \"HTTP/1.1 200 OK\"\n",
      "[2024-12-02 03:49:41 +0530] [Agents] [INFO] HTTP Request: GET http://127.0.0.1:7866/gradio_api/startup-events \"HTTP/1.1 200 OK\"\n",
      "[2024-12-02 03:49:41 +0530] [Agents] [INFO] HTTP Request: GET http://127.0.0.1:7866/gradio_api/startup-events \"HTTP/1.1 200 OK\"\n"
     ]
    },
    {
     "name": "stderr",
     "output_type": "stream",
     "text": [
      "INFO:httpx:HTTP Request: HEAD http://127.0.0.1:7866/ \"HTTP/1.1 200 OK\"\n"
     ]
    },
    {
     "name": "stdout",
     "output_type": "stream",
     "text": [
      "[2024-12-02 03:49:41 +0530] [Agents] [INFO] HTTP Request: HEAD http://127.0.0.1:7866/ \"HTTP/1.1 200 OK\"\n",
      "[2024-12-02 03:49:41 +0530] [Agents] [INFO] HTTP Request: HEAD http://127.0.0.1:7866/ \"HTTP/1.1 200 OK\"\n",
      "[2024-12-02 03:49:41 +0530] [Agents] [INFO] HTTP Request: HEAD http://127.0.0.1:7866/ \"HTTP/1.1 200 OK\"\n",
      "[2024-12-02 03:49:41 +0530] [Agents] [INFO] HTTP Request: HEAD http://127.0.0.1:7866/ \"HTTP/1.1 200 OK\"\n",
      "\n",
      "To create a public link, set `share=True` in `launch()`.\n"
     ]
    },
    {
     "data": {
      "text/html": [
       "<div><iframe src=\"http://127.0.0.1:7866/\" width=\"100%\" height=\"500\" allow=\"autoplay; camera; microphone; clipboard-read; clipboard-write;\" frameborder=\"0\" allowfullscreen></iframe></div>"
      ],
      "text/plain": [
       "<IPython.core.display.HTML object>"
      ]
     },
     "metadata": {},
     "output_type": "display_data"
    },
    {
     "data": {
      "text/plain": []
     },
     "execution_count": 11,
     "metadata": {},
     "output_type": "execute_result"
    },
    {
     "name": "stderr",
     "output_type": "stream",
     "text": [
      "INFO:httpx:HTTP Request: GET https://api.gradio.app/pkg-version \"HTTP/1.1 200 OK\"\n"
     ]
    },
    {
     "name": "stdout",
     "output_type": "stream",
     "text": [
      "[2024-12-02 03:49:42 +0530] [Agents] [INFO] HTTP Request: GET https://api.gradio.app/pkg-version \"HTTP/1.1 200 OK\"\n",
      "[2024-12-02 03:49:42 +0530] [Agents] [INFO] HTTP Request: GET https://api.gradio.app/pkg-version \"HTTP/1.1 200 OK\"\n",
      "[2024-12-02 03:49:42 +0530] [Agents] [INFO] HTTP Request: GET https://api.gradio.app/pkg-version \"HTTP/1.1 200 OK\"\n",
      "[2024-12-02 03:49:42 +0530] [Agents] [INFO] HTTP Request: GET https://api.gradio.app/pkg-version \"HTTP/1.1 200 OK\"\n",
      "[LOG]: Sending push notification\n",
      "[LOG]: All notifications sent\n",
      "[LOG]: Sending push notification\n",
      "[LOG]: All notifications sent\n"
     ]
    }
   ],
   "source": [
    "agent_framework = JobAgentFramework()\n",
    "\n",
    "# Initialize agent framework and planner before interaction\n",
    "agent_framework._init_planner()\n",
    "\n",
    "with gr.Blocks(title=\"Job Search\", fill_width=True) as ui:\n",
    "\n",
    "    # Example data\n",
    "    initial_job = Job(\n",
    "        description=\"Example description\",\n",
    "        job_title='xyz',\n",
    "        company='abc',\n",
    "        location='mumbai',\n",
    "        responsibilities='dum dum',\n",
    "        skills=['python', 'java'],\n",
    "        url=\"https://cnn.com\",\n",
    "        prep_questions=['how to do', 'how are you']\n",
    "    )\n",
    "    initial_prep = InterviewPreparation(\n",
    "        job=initial_job,\n",
    "        job_title='xyz',\n",
    "        skills_to_focus=['python', 'java'],\n",
    "        technical_questions=['how to do', 'how are you'],\n",
    "        technical_answers=['lala', 'i know everything'],\n",
    "        behavioral_questions=['a', 'b'],\n",
    "        behavioral_answers=['c', 'd'],\n",
    "        resources=['x', 'y', 'z']\n",
    "    )\n",
    "\n",
    "    # State for job opportunities\n",
    "    opportunities = gr.State([initial_prep])\n",
    "\n",
    "    def get_table(opps):\n",
    "        return [\n",
    "            [\n",
    "                opp.job.description,\n",
    "                opp.job.company,\n",
    "                opp.job.location,\n",
    "                \", \".join(opp.skills_to_focus),\n",
    "                \", \".join(opp.technical_questions),\n",
    "                \", \".join(opp.technical_answers),\n",
    "                \", \".join(opp.resources),\n",
    "                opp.job.url\n",
    "            ] for opp in opps\n",
    "        ]\n",
    "\n",
    "    def do_select(opportunities, selected_index: gr.SelectData):\n",
    "        row = selected_index.index[0]\n",
    "        opportunity = opportunities[row]\n",
    "        \n",
    "        # Validate that planner and messenger are properly initialized\n",
    "        if not agent_framework.planner or not agent_framework.planner.messenger:\n",
    "            return \"Agent framework is not properly initialized.\"\n",
    "\n",
    "        # Send alert\n",
    "        agent_framework.planner.messenger.alert(opportunity)\n",
    "\n",
    "    with gr.Row():\n",
    "        gr.Markdown('<div style=\"text-align: center;font-size:24px\">\"Job Search Insights\" - Agentic AI</div>')\n",
    "\n",
    "    with gr.Row():\n",
    "        gr.Markdown('<div style=\"text-align: center;font-size:14px\">Jobs surfaced so far:</div>')\n",
    "\n",
    "    with gr.Row():\n",
    "        opportunities_dataframe = gr.Dataframe(\n",
    "            headers=[\n",
    "                \"Description\", \"Company\", \"Location\", \"Skills to Focus\",\n",
    "                \"Technical Questions\", \"Technical Answers\", \"Resources\", \"URL\"\n",
    "            ],\n",
    "            datatype=[\"str\", \"str\", \"str\", \"str\", \"str\", \"str\", \"str\", \"str\"],\n",
    "            wrap=True,\n",
    "            column_widths=[4, 2, 2, 3, 4, 4, 3, 2],\n",
    "            row_count=14,\n",
    "        )\n",
    "\n",
    "    ui.load(get_table, inputs=[opportunities], outputs=[opportunities_dataframe])\n",
    "    opportunities_dataframe.select(do_select, inputs=[opportunities], outputs=[])\n",
    "ui.launch(inbrowser=True)\n"
   ]
  },
  {
   "cell_type": "code",
   "execution_count": null,
   "id": "437d3c65-9cc3-42b1-977f-ab2bf6a35e21",
   "metadata": {},
   "outputs": [],
   "source": []
  }
 ],
 "metadata": {
  "kernelspec": {
   "display_name": "Python 3 (ipykernel)",
   "language": "python",
   "name": "python3"
  },
  "language_info": {
   "codemirror_mode": {
    "name": "ipython",
    "version": 3
   },
   "file_extension": ".py",
   "mimetype": "text/x-python",
   "name": "python",
   "nbconvert_exporter": "python",
   "pygments_lexer": "ipython3",
   "version": "3.11.10"
  }
 },
 "nbformat": 4,
 "nbformat_minor": 5
}
